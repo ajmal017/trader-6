{
  "nbformat": 4,
  "nbformat_minor": 0,
  "metadata": {
    "colab": {
      "name": "API.ipynb",
      "provenance": [],
      "collapsed_sections": [],
      "authorship_tag": "ABX9TyMyRjrFE4SeL776REm815PQ",
      "include_colab_link": true
    },
    "kernelspec": {
      "name": "python3",
      "display_name": "Python 3"
    }
  },
  "cells": [
    {
      "cell_type": "markdown",
      "metadata": {
        "id": "view-in-github",
        "colab_type": "text"
      },
      "source": [
        "<a href=\"https://colab.research.google.com/github/moazzamfarid/trader/blob/master/API.ipynb\" target=\"_parent\"><img src=\"https://colab.research.google.com/assets/colab-badge.svg\" alt=\"Open In Colab\"/></a>"
      ]
    },
    {
      "cell_type": "code",
      "metadata": {
        "id": "9ftk8n9TVB_R",
        "colab_type": "code",
        "colab": {
          "base_uri": "https://localhost:8080/",
          "height": 1000
        },
        "outputId": "cef8cf93-5dc0-49b8-c426-8321d5f43cfb"
      },
      "source": [
        "!curl -X POST \"https://api-2445582026130.production.gw.apicast.io/domain-mapper?X_user_key=d64021046954db396d64636496c93baa\" -d'[\"Amazon\"]'"
      ],
      "execution_count": 4,
      "outputs": [
        {
          "output_type": "stream",
          "text": [
            "[\n",
            "  {\n",
            "    \"Original Input\": \"Amazon\", \n",
            "    \"Company Name\": \"Amazon.com INC\", \n",
            "    \"Confidence\": 0.99, \n",
            "    \"Confidence Level\": \"High\", \n",
            "    \"Aliases\": [\n",
            "      \"AMAZON.COM INC\", \n",
            "      \"Amazon\", \n",
            "      \"Zappos\"\n",
            "    ], \n",
            "    \"Alternative Company Matches\": [], \n",
            "    \"Related Entities\": [\n",
            "      \"Amazon\", \n",
            "      \"Amazon.com INC\", \n",
            "      \"Amazon Web Services\", \n",
            "      \"AbeBooks\", \n",
            "      \"ComiXology\", \n",
            "      \"Whole Foods Market INC\", \n",
            "      \"Woot\", \n",
            "      \"Zappos\", \n",
            "      \"Amazon Services\", \n",
            "      \"Amazon Japan\", \n",
            "      \"Amazon Air\", \n",
            "      \"Alexa Internet\", \n",
            "      \"Amazon Books\", \n",
            "      \"Amazon Game Studios\", \n",
            "      \"Amazon Lab126\", \n",
            "      \"Amazon Logistics INC\", \n",
            "      \"Amazon Publishing\", \n",
            "      \"Amazon Robotics\", \n",
            "      \"Amazon.com Services\", \n",
            "      \"Amazon Studios\", \n",
            "      \"Audible\", \n",
            "      \"Body Labs\", \n",
            "      \"AWS\", \n",
            "      \"Book Depository\", \n",
            "      \"Goodreads\", \n",
            "      \"Graphiq\", \n",
            "      \"IMDb\", \n",
            "      \"Ring\", \n",
            "      \"Twitch Interactive\", \n",
            "      \"Whole Foods Market\"\n",
            "    ], \n",
            "    \"Ticker\": \"AMZN\", \n",
            "    \"Exchange\": \"NASDAQ\", \n",
            "    \"Majority Owner\": \"Amazon\", \n",
            "    \"FIGI\": null, \n",
            "    \"Websites\": [\n",
            "      \"amazon.it\", \n",
            "      \"amazon.cn\", \n",
            "      \"amazon.com\", \n",
            "      \"amazon.co.jp\", \n",
            "      \"services.amazon.com\"\n",
            "    ]\n",
            "  }\n",
            "]\n"
          ],
          "name": "stdout"
        }
      ]
    },
    {
      "cell_type": "code",
      "metadata": {
        "id": "bctZX-t3dDjt",
        "colab_type": "code",
        "colab": {
          "base_uri": "https://localhost:8080/",
          "height": 1000
        },
        "outputId": "84669e24-aa41-469f-a40c-bf1cc6c20125"
      },
      "source": [
        "!curl -X POST \"https://api-2445582026130.production.gw.apicast.io/merchant-mapper?X_user_key=d64021046954db396d64636496c93baa\" -d'[\"Amazon\"]'"
      ],
      "execution_count": 3,
      "outputs": [
        {
          "output_type": "stream",
          "text": [
            "[\n",
            "  {\n",
            "    \"Original Input\": \"Amazon\", \n",
            "    \"Company Name\": \"Amazon.com INC\", \n",
            "    \"Confidence\": 0.99, \n",
            "    \"Confidence Level\": \"High\", \n",
            "    \"Aliases\": [\n",
            "      \"Amazon\", \n",
            "      \"Zappos\", \n",
            "      \"Zappos.com\"\n",
            "    ], \n",
            "    \"Alternative Company Matches\": [], \n",
            "    \"Related Entities\": [\n",
            "      \"Amazon\", \n",
            "      \"Amazon.com INC\", \n",
            "      \"Amazon Web Services\", \n",
            "      \"AbeBooks\", \n",
            "      \"ComiXology\", \n",
            "      \"Whole Foods Market INC\", \n",
            "      \"Woot\", \n",
            "      \"Zappos\", \n",
            "      \"Amazon Services\", \n",
            "      \"Amazon Japan\", \n",
            "      \"Amazon Air\", \n",
            "      \"Alexa Internet\", \n",
            "      \"Amazon Books\", \n",
            "      \"Amazon Game Studios\", \n",
            "      \"Amazon Lab126\", \n",
            "      \"Amazon Logistics INC\", \n",
            "      \"Amazon Publishing\", \n",
            "      \"Amazon Robotics\", \n",
            "      \"Amazon.com Services\", \n",
            "      \"Amazon Studios\", \n",
            "      \"Audible\", \n",
            "      \"Body Labs\", \n",
            "      \"AWS\", \n",
            "      \"Book Depository\", \n",
            "      \"Goodreads\", \n",
            "      \"Graphiq\", \n",
            "      \"IMDb\", \n",
            "      \"Ring\", \n",
            "      \"Twitch Interactive\", \n",
            "      \"Whole Foods Market\"\n",
            "    ], \n",
            "    \"Ticker\": \"AMZN\", \n",
            "    \"Exchange\": \"NASDAQ\", \n",
            "    \"Majority Owner\": \"Amazon\", \n",
            "    \"FIGI\": null, \n",
            "    \"Websites\": [\n",
            "      \"amazon.cn\", \n",
            "      \"amazon.it\", \n",
            "      \"amazon.com\", \n",
            "      \"amazon.co.jp\", \n",
            "      \"services.amazon.com\"\n",
            "    ]\n",
            "  }\n",
            "]\n"
          ],
          "name": "stdout"
        }
      ]
    },
    {
      "cell_type": "code",
      "metadata": {
        "id": "RcjJneXHd0g4",
        "colab_type": "code",
        "colab": {
          "base_uri": "https://localhost:8080/",
          "height": 1000
        },
        "outputId": "1100e1be-c923-4958-deb9-4d9e9a477d1c"
      },
      "source": [
        "!curl -X POST \"https://api-2445582026130.production.gw.apicast.io/product-mapper?X_user_key=f816b9125492069f7f2e3b1cc60659f0\" -d'[\"Amazon\"]'"
      ],
      "execution_count": 5,
      "outputs": [
        {
          "output_type": "stream",
          "text": [
            "[\n",
            "  {\n",
            "    \"Original Input\": \"Amazon\", \n",
            "    \"Company Name\": \"Amazon.com INC\", \n",
            "    \"Confidence\": 0.99, \n",
            "    \"Confidence Level\": \"High\", \n",
            "    \"Aliases\": [\n",
            "      \"Amazon\", \n",
            "      \"Amazon.com Inc\", \n",
            "      \"Zappos\"\n",
            "    ], \n",
            "    \"Alternative Company Matches\": [], \n",
            "    \"Related Entities\": [\n",
            "      \"Amazon\", \n",
            "      \"Amazon Web Services\", \n",
            "      \"Amazon.com INC\", \n",
            "      \"AbeBooks\", \n",
            "      \"ComiXology\", \n",
            "      \"Whole Foods Market INC\", \n",
            "      \"Woot\", \n",
            "      \"Zappos\", \n",
            "      \"Amazon Services\", \n",
            "      \"Amazon Japan\", \n",
            "      \"Amazon Air\", \n",
            "      \"Alexa Internet\", \n",
            "      \"Amazon Books\", \n",
            "      \"Amazon Game Studios\", \n",
            "      \"Amazon Lab126\", \n",
            "      \"Amazon Logistics INC\", \n",
            "      \"Amazon Publishing\", \n",
            "      \"Amazon Robotics\", \n",
            "      \"Amazon.com Services\", \n",
            "      \"Amazon Studios\", \n",
            "      \"Audible\", \n",
            "      \"Body Labs\", \n",
            "      \"AWS\", \n",
            "      \"Book Depository\", \n",
            "      \"Goodreads\", \n",
            "      \"Graphiq\", \n",
            "      \"IMDb\", \n",
            "      \"Ring\", \n",
            "      \"Twitch Interactive\", \n",
            "      \"Whole Foods Market\"\n",
            "    ], \n",
            "    \"Ticker\": \"AMZN\", \n",
            "    \"Exchange\": \"NASDAQ\", \n",
            "    \"Majority Owner\": \"Amazon\", \n",
            "    \"FIGI\": null, \n",
            "    \"Websites\": [\n",
            "      \"amazon.cn\", \n",
            "      \"amazon.it\", \n",
            "      \"amazon.com\", \n",
            "      \"amazon.co.jp\", \n",
            "      \"services.amazon.com\"\n",
            "    ]\n",
            "  }\n",
            "]\n"
          ],
          "name": "stdout"
        }
      ]
    },
    {
      "cell_type": "code",
      "metadata": {
        "id": "z8dLlKnSekuU",
        "colab_type": "code",
        "colab": {}
      },
      "source": [
        ""
      ],
      "execution_count": null,
      "outputs": []
    }
  ]
}