{
  "nbformat": 4,
  "nbformat_minor": 0,
  "metadata": {
    "colab": {
      "name": "candle prediction based in historic data",
      "provenance": []
    },
    "kernelspec": {
      "name": "python3",
      "display_name": "Python 3"
    }
  },
  "cells": [
    {
      "cell_type": "code",
      "metadata": {
        "id": "h4IIHb1bOl15",
        "colab_type": "code",
        "colab": {}
      },
      "source": [
        "import os\n",
        "import pandas as pd\n",
        "import numpy as np"
      ],
      "execution_count": 0,
      "outputs": []
    },
    {
      "cell_type": "code",
      "metadata": {
        "id": "NLGMhzF7xIpU",
        "colab_type": "code",
        "colab": {}
      },
      "source": [
        "import warnings\n",
        "warnings.filterwarnings('ignore')"
      ],
      "execution_count": 0,
      "outputs": []
    },
    {
      "cell_type": "code",
      "metadata": {
        "id": "f6x5smGlPWQ6",
        "colab_type": "code",
        "colab": {}
      },
      "source": [
        "#pick all files in mozam folder of drive\n",
        "files=os.listdir('drive/My Drive/mozam')"
      ],
      "execution_count": 0,
      "outputs": []
    },
    {
      "cell_type": "code",
      "metadata": {
        "id": "BEtUDQ67PcAh",
        "colab_type": "code",
        "colab": {}
      },
      "source": [
        "#load all files from the folder\n",
        "data=[pd.read_csv('drive/My Drive/mozam/'+i) for i in files]"
      ],
      "execution_count": 0,
      "outputs": []
    },
    {
      "cell_type": "code",
      "metadata": {
        "id": "qMLXjDtZQL0M",
        "colab_type": "code",
        "colab": {}
      },
      "source": [
        "#get High - Low for all files\n",
        "for i,df in enumerate(data):\n",
        "  df[files[i][:-4]]=df['High']-df['Close']"
      ],
      "execution_count": 0,
      "outputs": []
    },
    {
      "cell_type": "code",
      "metadata": {
        "id": "6meKKB2mS2gR",
        "colab_type": "code",
        "outputId": "63a37966-6b7c-4d3a-c0af-d70e028a22b9",
        "colab": {
          "base_uri": "https://localhost:8080/",
          "height": 409
        }
      },
      "source": [
        "data[0]"
      ],
      "execution_count": 8,
      "outputs": [
        {
          "output_type": "execute_result",
          "data": {
            "text/html": [
              "<div>\n",
              "<style scoped>\n",
              "    .dataframe tbody tr th:only-of-type {\n",
              "        vertical-align: middle;\n",
              "    }\n",
              "\n",
              "    .dataframe tbody tr th {\n",
              "        vertical-align: top;\n",
              "    }\n",
              "\n",
              "    .dataframe thead th {\n",
              "        text-align: right;\n",
              "    }\n",
              "</style>\n",
              "<table border=\"1\" class=\"dataframe\">\n",
              "  <thead>\n",
              "    <tr style=\"text-align: right;\">\n",
              "      <th></th>\n",
              "      <th>Date</th>\n",
              "      <th>Time</th>\n",
              "      <th>Open</th>\n",
              "      <th>High</th>\n",
              "      <th>Low</th>\n",
              "      <th>Close</th>\n",
              "      <th>Vol</th>\n",
              "      <th>OI</th>\n",
              "      <th>cl</th>\n",
              "    </tr>\n",
              "  </thead>\n",
              "  <tbody>\n",
              "    <tr>\n",
              "      <th>0</th>\n",
              "      <td>06/05/2000</td>\n",
              "      <td>10:00</td>\n",
              "      <td>105.33</td>\n",
              "      <td>105.43</td>\n",
              "      <td>105.21</td>\n",
              "      <td>105.34</td>\n",
              "      <td>156</td>\n",
              "      <td>0</td>\n",
              "      <td>0.09</td>\n",
              "    </tr>\n",
              "    <tr>\n",
              "      <th>1</th>\n",
              "      <td>06/05/2000</td>\n",
              "      <td>11:00</td>\n",
              "      <td>105.35</td>\n",
              "      <td>105.35</td>\n",
              "      <td>104.94</td>\n",
              "      <td>105.10</td>\n",
              "      <td>538</td>\n",
              "      <td>0</td>\n",
              "      <td>0.25</td>\n",
              "    </tr>\n",
              "    <tr>\n",
              "      <th>2</th>\n",
              "      <td>06/05/2000</td>\n",
              "      <td>12:00</td>\n",
              "      <td>105.11</td>\n",
              "      <td>105.38</td>\n",
              "      <td>104.80</td>\n",
              "      <td>104.93</td>\n",
              "      <td>365</td>\n",
              "      <td>0</td>\n",
              "      <td>0.45</td>\n",
              "    </tr>\n",
              "    <tr>\n",
              "      <th>3</th>\n",
              "      <td>06/05/2000</td>\n",
              "      <td>13:00</td>\n",
              "      <td>104.94</td>\n",
              "      <td>105.05</td>\n",
              "      <td>104.83</td>\n",
              "      <td>105.04</td>\n",
              "      <td>159</td>\n",
              "      <td>0</td>\n",
              "      <td>0.01</td>\n",
              "    </tr>\n",
              "    <tr>\n",
              "      <th>4</th>\n",
              "      <td>06/05/2000</td>\n",
              "      <td>14:00</td>\n",
              "      <td>105.05</td>\n",
              "      <td>105.32</td>\n",
              "      <td>105.04</td>\n",
              "      <td>105.27</td>\n",
              "      <td>134</td>\n",
              "      <td>0</td>\n",
              "      <td>0.05</td>\n",
              "    </tr>\n",
              "    <tr>\n",
              "      <th>...</th>\n",
              "      <td>...</td>\n",
              "      <td>...</td>\n",
              "      <td>...</td>\n",
              "      <td>...</td>\n",
              "      <td>...</td>\n",
              "      <td>...</td>\n",
              "      <td>...</td>\n",
              "      <td>...</td>\n",
              "      <td>...</td>\n",
              "    </tr>\n",
              "    <tr>\n",
              "      <th>104586</th>\n",
              "      <td>06/03/2020</td>\n",
              "      <td>09:00</td>\n",
              "      <td>36.15</td>\n",
              "      <td>36.80</td>\n",
              "      <td>36.12</td>\n",
              "      <td>36.67</td>\n",
              "      <td>10532</td>\n",
              "      <td>8756</td>\n",
              "      <td>0.13</td>\n",
              "    </tr>\n",
              "    <tr>\n",
              "      <th>104587</th>\n",
              "      <td>06/03/2020</td>\n",
              "      <td>10:00</td>\n",
              "      <td>36.68</td>\n",
              "      <td>36.97</td>\n",
              "      <td>36.37</td>\n",
              "      <td>36.78</td>\n",
              "      <td>18809</td>\n",
              "      <td>16823</td>\n",
              "      <td>0.19</td>\n",
              "    </tr>\n",
              "    <tr>\n",
              "      <th>104588</th>\n",
              "      <td>06/03/2020</td>\n",
              "      <td>11:00</td>\n",
              "      <td>36.79</td>\n",
              "      <td>37.09</td>\n",
              "      <td>36.13</td>\n",
              "      <td>36.81</td>\n",
              "      <td>24315</td>\n",
              "      <td>23785</td>\n",
              "      <td>0.28</td>\n",
              "    </tr>\n",
              "    <tr>\n",
              "      <th>104589</th>\n",
              "      <td>06/03/2020</td>\n",
              "      <td>12:00</td>\n",
              "      <td>36.80</td>\n",
              "      <td>37.28</td>\n",
              "      <td>36.26</td>\n",
              "      <td>36.53</td>\n",
              "      <td>22242</td>\n",
              "      <td>23389</td>\n",
              "      <td>0.75</td>\n",
              "    </tr>\n",
              "    <tr>\n",
              "      <th>104590</th>\n",
              "      <td>06/03/2020</td>\n",
              "      <td>13:00</td>\n",
              "      <td>36.53</td>\n",
              "      <td>36.59</td>\n",
              "      <td>36.10</td>\n",
              "      <td>36.53</td>\n",
              "      <td>9765</td>\n",
              "      <td>9698</td>\n",
              "      <td>0.06</td>\n",
              "    </tr>\n",
              "  </tbody>\n",
              "</table>\n",
              "<p>104591 rows × 9 columns</p>\n",
              "</div>"
            ],
            "text/plain": [
              "              Date   Time    Open    High     Low   Close    Vol     OI    cl\n",
              "0       06/05/2000  10:00  105.33  105.43  105.21  105.34    156      0  0.09\n",
              "1       06/05/2000  11:00  105.35  105.35  104.94  105.10    538      0  0.25\n",
              "2       06/05/2000  12:00  105.11  105.38  104.80  104.93    365      0  0.45\n",
              "3       06/05/2000  13:00  104.94  105.05  104.83  105.04    159      0  0.01\n",
              "4       06/05/2000  14:00  105.05  105.32  105.04  105.27    134      0  0.05\n",
              "...            ...    ...     ...     ...     ...     ...    ...    ...   ...\n",
              "104586  06/03/2020  09:00   36.15   36.80   36.12   36.67  10532   8756  0.13\n",
              "104587  06/03/2020  10:00   36.68   36.97   36.37   36.78  18809  16823  0.19\n",
              "104588  06/03/2020  11:00   36.79   37.09   36.13   36.81  24315  23785  0.28\n",
              "104589  06/03/2020  12:00   36.80   37.28   36.26   36.53  22242  23389  0.75\n",
              "104590  06/03/2020  13:00   36.53   36.59   36.10   36.53   9765   9698  0.06\n",
              "\n",
              "[104591 rows x 9 columns]"
            ]
          },
          "metadata": {
            "tags": []
          },
          "execution_count": 8
        }
      ]
    },
    {
      "cell_type": "code",
      "metadata": {
        "id": "GftG0jRWSNoF",
        "colab_type": "code",
        "colab": {}
      },
      "source": [
        "#set index to be data and time for all\n",
        "data=[i.set_index(['Date','Time']).iloc[:,-1:] for i in data]"
      ],
      "execution_count": 0,
      "outputs": []
    },
    {
      "cell_type": "code",
      "metadata": {
        "id": "-CuEryWzSP4P",
        "colab_type": "code",
        "colab": {}
      },
      "source": [
        "#concatenate all files to make one dataframe\n",
        "df=pd.concat(data,axis=1,join='outer')"
      ],
      "execution_count": 0,
      "outputs": []
    },
    {
      "cell_type": "code",
      "metadata": {
        "id": "O107mGxjTwrv",
        "colab_type": "code",
        "outputId": "03b80967-7a03-4a89-e168-a48ca9f16104",
        "colab": {
          "base_uri": "https://localhost:8080/",
          "height": 408
        }
      },
      "source": [
        "df.info()"
      ],
      "execution_count": 11,
      "outputs": [
        {
          "output_type": "stream",
          "text": [
            "<class 'pandas.core.frame.DataFrame'>\n",
            "MultiIndex: 158892 entries, ('01/01/2002', '20:00') to ('12/31/2019', '17:00')\n",
            "Data columns (total 16 columns):\n",
            " #   Column  Non-Null Count   Dtype  \n",
            "---  ------  --------------   -----  \n",
            " 0   cl      104591 non-null  float64\n",
            " 1   gc      96847 non-null   float64\n",
            " 2   s       71808 non-null   float64\n",
            " 3   rb      92679 non-null   float64\n",
            " 4   nq      504 non-null     float64\n",
            " 5   edm     93327 non-null   float64\n",
            " 6   tu      99250 non-null   float64\n",
            " 7   ty      107494 non-null  float64\n",
            " 8   hg      95121 non-null   float64\n",
            " 9   ng      98003 non-null   float64\n",
            " 10  si      100219 non-null  float64\n",
            " 11  jy      111628 non-null  float64\n",
            " 12  ec      111524 non-null  float64\n",
            " 13  sb      37801 non-null   float64\n",
            " 14  rty     97445 non-null   float64\n",
            " 15  y       115355 non-null  float64\n",
            "dtypes: float64(16)\n",
            "memory usage: 19.9+ MB\n"
          ],
          "name": "stdout"
        }
      ]
    },
    {
      "cell_type": "code",
      "metadata": {
        "id": "qyfrB9HDYCmJ",
        "colab_type": "code",
        "colab": {}
      },
      "source": [
        "#skipping nq, s and sb  along with dropping nan columns\n",
        "df=df.drop(columns=['nq','s','sb']).dropna()"
      ],
      "execution_count": 0,
      "outputs": []
    },
    {
      "cell_type": "code",
      "metadata": {
        "id": "92awKV-IYTc4",
        "colab_type": "code",
        "colab": {
          "base_uri": "https://localhost:8080/",
          "height": 440
        },
        "outputId": "826c915b-77eb-4ff0-9723-c54d5afcaa2c"
      },
      "source": [
        "df"
      ],
      "execution_count": 14,
      "outputs": [
        {
          "output_type": "execute_result",
          "data": {
            "text/html": [
              "<div>\n",
              "<style scoped>\n",
              "    .dataframe tbody tr th:only-of-type {\n",
              "        vertical-align: middle;\n",
              "    }\n",
              "\n",
              "    .dataframe tbody tr th {\n",
              "        vertical-align: top;\n",
              "    }\n",
              "\n",
              "    .dataframe thead th {\n",
              "        text-align: right;\n",
              "    }\n",
              "</style>\n",
              "<table border=\"1\" class=\"dataframe\">\n",
              "  <thead>\n",
              "    <tr style=\"text-align: right;\">\n",
              "      <th></th>\n",
              "      <th></th>\n",
              "      <th>cl</th>\n",
              "      <th>gc</th>\n",
              "      <th>rb</th>\n",
              "      <th>edm</th>\n",
              "      <th>tu</th>\n",
              "      <th>ty</th>\n",
              "      <th>hg</th>\n",
              "      <th>ng</th>\n",
              "      <th>si</th>\n",
              "      <th>jy</th>\n",
              "      <th>ec</th>\n",
              "      <th>rty</th>\n",
              "      <th>y</th>\n",
              "    </tr>\n",
              "    <tr>\n",
              "      <th>Date</th>\n",
              "      <th>Time</th>\n",
              "      <th></th>\n",
              "      <th></th>\n",
              "      <th></th>\n",
              "      <th></th>\n",
              "      <th></th>\n",
              "      <th></th>\n",
              "      <th></th>\n",
              "      <th></th>\n",
              "      <th></th>\n",
              "      <th></th>\n",
              "      <th></th>\n",
              "      <th></th>\n",
              "      <th></th>\n",
              "    </tr>\n",
              "  </thead>\n",
              "  <tbody>\n",
              "    <tr>\n",
              "      <th rowspan=\"2\" valign=\"top\">01/01/2015</th>\n",
              "      <th>20:00</th>\n",
              "      <td>0.51</td>\n",
              "      <td>0.8</td>\n",
              "      <td>0.0040</td>\n",
              "      <td>0.005</td>\n",
              "      <td>4.0</td>\n",
              "      <td>0.062500</td>\n",
              "      <td>0.0005</td>\n",
              "      <td>0.006</td>\n",
              "      <td>0.020</td>\n",
              "      <td>0.00160</td>\n",
              "      <td>0.00050</td>\n",
              "      <td>0.2</td>\n",
              "      <td>1.00</td>\n",
              "    </tr>\n",
              "    <tr>\n",
              "      <th>22:00</th>\n",
              "      <td>0.23</td>\n",
              "      <td>0.4</td>\n",
              "      <td>0.0018</td>\n",
              "      <td>0.000</td>\n",
              "      <td>0.0</td>\n",
              "      <td>0.000000</td>\n",
              "      <td>0.0020</td>\n",
              "      <td>0.003</td>\n",
              "      <td>0.015</td>\n",
              "      <td>0.00030</td>\n",
              "      <td>0.00050</td>\n",
              "      <td>0.2</td>\n",
              "      <td>0.50</td>\n",
              "    </tr>\n",
              "    <tr>\n",
              "      <th rowspan=\"3\" valign=\"top\">01/01/2018</th>\n",
              "      <th>19:00</th>\n",
              "      <td>0.05</td>\n",
              "      <td>1.0</td>\n",
              "      <td>0.0066</td>\n",
              "      <td>0.000</td>\n",
              "      <td>2.0</td>\n",
              "      <td>0.015625</td>\n",
              "      <td>0.0105</td>\n",
              "      <td>0.011</td>\n",
              "      <td>0.015</td>\n",
              "      <td>0.00020</td>\n",
              "      <td>0.00015</td>\n",
              "      <td>0.6</td>\n",
              "      <td>1.00</td>\n",
              "    </tr>\n",
              "    <tr>\n",
              "      <th>20:00</th>\n",
              "      <td>0.02</td>\n",
              "      <td>1.0</td>\n",
              "      <td>0.0000</td>\n",
              "      <td>0.000</td>\n",
              "      <td>0.0</td>\n",
              "      <td>0.000000</td>\n",
              "      <td>0.0005</td>\n",
              "      <td>0.001</td>\n",
              "      <td>0.025</td>\n",
              "      <td>0.00045</td>\n",
              "      <td>0.00070</td>\n",
              "      <td>0.5</td>\n",
              "      <td>1.25</td>\n",
              "    </tr>\n",
              "    <tr>\n",
              "      <th>21:00</th>\n",
              "      <td>0.09</td>\n",
              "      <td>0.9</td>\n",
              "      <td>0.0022</td>\n",
              "      <td>0.000</td>\n",
              "      <td>4.0</td>\n",
              "      <td>0.031250</td>\n",
              "      <td>0.0340</td>\n",
              "      <td>0.017</td>\n",
              "      <td>0.020</td>\n",
              "      <td>0.00010</td>\n",
              "      <td>0.00070</td>\n",
              "      <td>3.7</td>\n",
              "      <td>2.75</td>\n",
              "    </tr>\n",
              "    <tr>\n",
              "      <th>...</th>\n",
              "      <th>...</th>\n",
              "      <td>...</td>\n",
              "      <td>...</td>\n",
              "      <td>...</td>\n",
              "      <td>...</td>\n",
              "      <td>...</td>\n",
              "      <td>...</td>\n",
              "      <td>...</td>\n",
              "      <td>...</td>\n",
              "      <td>...</td>\n",
              "      <td>...</td>\n",
              "      <td>...</td>\n",
              "      <td>...</td>\n",
              "      <td>...</td>\n",
              "    </tr>\n",
              "    <tr>\n",
              "      <th rowspan=\"5\" valign=\"top\">12/31/2019</th>\n",
              "      <th>12:00</th>\n",
              "      <td>0.06</td>\n",
              "      <td>1.0</td>\n",
              "      <td>0.0014</td>\n",
              "      <td>0.000</td>\n",
              "      <td>1.0</td>\n",
              "      <td>0.015625</td>\n",
              "      <td>0.0060</td>\n",
              "      <td>0.005</td>\n",
              "      <td>0.045</td>\n",
              "      <td>0.00010</td>\n",
              "      <td>0.00005</td>\n",
              "      <td>1.9</td>\n",
              "      <td>1.00</td>\n",
              "    </tr>\n",
              "    <tr>\n",
              "      <th>13:00</th>\n",
              "      <td>0.36</td>\n",
              "      <td>0.2</td>\n",
              "      <td>0.0127</td>\n",
              "      <td>0.000</td>\n",
              "      <td>6.0</td>\n",
              "      <td>0.078125</td>\n",
              "      <td>0.0050</td>\n",
              "      <td>0.005</td>\n",
              "      <td>0.010</td>\n",
              "      <td>0.00040</td>\n",
              "      <td>0.00060</td>\n",
              "      <td>0.1</td>\n",
              "      <td>0.25</td>\n",
              "    </tr>\n",
              "    <tr>\n",
              "      <th>14:00</th>\n",
              "      <td>0.21</td>\n",
              "      <td>2.6</td>\n",
              "      <td>0.0076</td>\n",
              "      <td>0.005</td>\n",
              "      <td>4.0</td>\n",
              "      <td>0.078125</td>\n",
              "      <td>0.0010</td>\n",
              "      <td>0.003</td>\n",
              "      <td>0.070</td>\n",
              "      <td>0.00030</td>\n",
              "      <td>0.00070</td>\n",
              "      <td>1.9</td>\n",
              "      <td>1.75</td>\n",
              "    </tr>\n",
              "    <tr>\n",
              "      <th>15:00</th>\n",
              "      <td>0.38</td>\n",
              "      <td>1.2</td>\n",
              "      <td>0.0114</td>\n",
              "      <td>0.005</td>\n",
              "      <td>2.0</td>\n",
              "      <td>0.046875</td>\n",
              "      <td>0.0010</td>\n",
              "      <td>0.008</td>\n",
              "      <td>0.015</td>\n",
              "      <td>0.00025</td>\n",
              "      <td>0.00005</td>\n",
              "      <td>5.7</td>\n",
              "      <td>2.75</td>\n",
              "    </tr>\n",
              "    <tr>\n",
              "      <th>16:00</th>\n",
              "      <td>0.01</td>\n",
              "      <td>2.4</td>\n",
              "      <td>0.0006</td>\n",
              "      <td>0.005</td>\n",
              "      <td>1.0</td>\n",
              "      <td>0.031250</td>\n",
              "      <td>0.0005</td>\n",
              "      <td>0.011</td>\n",
              "      <td>0.020</td>\n",
              "      <td>0.00045</td>\n",
              "      <td>0.00070</td>\n",
              "      <td>0.8</td>\n",
              "      <td>0.25</td>\n",
              "    </tr>\n",
              "  </tbody>\n",
              "</table>\n",
              "<p>72969 rows × 13 columns</p>\n",
              "</div>"
            ],
            "text/plain": [
              "                    cl   gc      rb    edm  ...       jy       ec  rty     y\n",
              "Date       Time                             ...                             \n",
              "01/01/2015 20:00  0.51  0.8  0.0040  0.005  ...  0.00160  0.00050  0.2  1.00\n",
              "           22:00  0.23  0.4  0.0018  0.000  ...  0.00030  0.00050  0.2  0.50\n",
              "01/01/2018 19:00  0.05  1.0  0.0066  0.000  ...  0.00020  0.00015  0.6  1.00\n",
              "           20:00  0.02  1.0  0.0000  0.000  ...  0.00045  0.00070  0.5  1.25\n",
              "           21:00  0.09  0.9  0.0022  0.000  ...  0.00010  0.00070  3.7  2.75\n",
              "...                ...  ...     ...    ...  ...      ...      ...  ...   ...\n",
              "12/31/2019 12:00  0.06  1.0  0.0014  0.000  ...  0.00010  0.00005  1.9  1.00\n",
              "           13:00  0.36  0.2  0.0127  0.000  ...  0.00040  0.00060  0.1  0.25\n",
              "           14:00  0.21  2.6  0.0076  0.005  ...  0.00030  0.00070  1.9  1.75\n",
              "           15:00  0.38  1.2  0.0114  0.005  ...  0.00025  0.00005  5.7  2.75\n",
              "           16:00  0.01  2.4  0.0006  0.005  ...  0.00045  0.00070  0.8  0.25\n",
              "\n",
              "[72969 rows x 13 columns]"
            ]
          },
          "metadata": {
            "tags": []
          },
          "execution_count": 14
        }
      ]
    },
    {
      "cell_type": "code",
      "metadata": {
        "id": "3kyIowHasawm",
        "colab_type": "code",
        "colab": {}
      },
      "source": [
        "#choose only y\n",
        "df=df.iloc[:,-1:]"
      ],
      "execution_count": 0,
      "outputs": []
    },
    {
      "cell_type": "code",
      "metadata": {
        "id": "nW3Z9p0V1PBV",
        "colab_type": "code",
        "colab": {
          "base_uri": "https://localhost:8080/",
          "height": 409
        },
        "outputId": "b4f9249d-f7b8-479c-abb4-badb23b78dbc"
      },
      "source": [
        "df"
      ],
      "execution_count": 69,
      "outputs": [
        {
          "output_type": "execute_result",
          "data": {
            "text/html": [
              "<div>\n",
              "<style scoped>\n",
              "    .dataframe tbody tr th:only-of-type {\n",
              "        vertical-align: middle;\n",
              "    }\n",
              "\n",
              "    .dataframe tbody tr th {\n",
              "        vertical-align: top;\n",
              "    }\n",
              "\n",
              "    .dataframe thead th {\n",
              "        text-align: right;\n",
              "    }\n",
              "</style>\n",
              "<table border=\"1\" class=\"dataframe\">\n",
              "  <thead>\n",
              "    <tr style=\"text-align: right;\">\n",
              "      <th></th>\n",
              "      <th>Date</th>\n",
              "      <th>Time</th>\n",
              "      <th>Open</th>\n",
              "      <th>High</th>\n",
              "      <th>Low</th>\n",
              "      <th>Close</th>\n",
              "      <th>Vol</th>\n",
              "      <th>OI</th>\n",
              "    </tr>\n",
              "  </thead>\n",
              "  <tbody>\n",
              "    <tr>\n",
              "      <th>0</th>\n",
              "      <td>06/05/2000</td>\n",
              "      <td>01:00</td>\n",
              "      <td>1498.50</td>\n",
              "      <td>1499.00</td>\n",
              "      <td>1498.50</td>\n",
              "      <td>1498.75</td>\n",
              "      <td>6</td>\n",
              "      <td>0</td>\n",
              "    </tr>\n",
              "    <tr>\n",
              "      <th>1</th>\n",
              "      <td>06/05/2000</td>\n",
              "      <td>02:00</td>\n",
              "      <td>1499.25</td>\n",
              "      <td>1499.25</td>\n",
              "      <td>1497.75</td>\n",
              "      <td>1497.75</td>\n",
              "      <td>17</td>\n",
              "      <td>0</td>\n",
              "    </tr>\n",
              "    <tr>\n",
              "      <th>2</th>\n",
              "      <td>06/05/2000</td>\n",
              "      <td>03:00</td>\n",
              "      <td>1497.50</td>\n",
              "      <td>1497.50</td>\n",
              "      <td>1494.50</td>\n",
              "      <td>1496.00</td>\n",
              "      <td>50</td>\n",
              "      <td>0</td>\n",
              "    </tr>\n",
              "    <tr>\n",
              "      <th>3</th>\n",
              "      <td>06/05/2000</td>\n",
              "      <td>04:00</td>\n",
              "      <td>1496.25</td>\n",
              "      <td>1498.00</td>\n",
              "      <td>1495.75</td>\n",
              "      <td>1496.50</td>\n",
              "      <td>35</td>\n",
              "      <td>0</td>\n",
              "    </tr>\n",
              "    <tr>\n",
              "      <th>4</th>\n",
              "      <td>06/05/2000</td>\n",
              "      <td>05:00</td>\n",
              "      <td>1496.25</td>\n",
              "      <td>1496.75</td>\n",
              "      <td>1495.00</td>\n",
              "      <td>1495.50</td>\n",
              "      <td>52</td>\n",
              "      <td>0</td>\n",
              "    </tr>\n",
              "    <tr>\n",
              "      <th>...</th>\n",
              "      <td>...</td>\n",
              "      <td>...</td>\n",
              "      <td>...</td>\n",
              "      <td>...</td>\n",
              "      <td>...</td>\n",
              "      <td>...</td>\n",
              "      <td>...</td>\n",
              "      <td>...</td>\n",
              "    </tr>\n",
              "    <tr>\n",
              "      <th>115350</th>\n",
              "      <td>06/03/2020</td>\n",
              "      <td>10:00</td>\n",
              "      <td>3102.50</td>\n",
              "      <td>3110.50</td>\n",
              "      <td>3101.25</td>\n",
              "      <td>3107.00</td>\n",
              "      <td>106112</td>\n",
              "      <td>98948</td>\n",
              "    </tr>\n",
              "    <tr>\n",
              "      <th>115351</th>\n",
              "      <td>06/03/2020</td>\n",
              "      <td>11:00</td>\n",
              "      <td>3106.75</td>\n",
              "      <td>3117.50</td>\n",
              "      <td>3106.50</td>\n",
              "      <td>3114.25</td>\n",
              "      <td>99697</td>\n",
              "      <td>90683</td>\n",
              "    </tr>\n",
              "    <tr>\n",
              "      <th>115352</th>\n",
              "      <td>06/03/2020</td>\n",
              "      <td>12:00</td>\n",
              "      <td>3114.00</td>\n",
              "      <td>3114.50</td>\n",
              "      <td>3109.00</td>\n",
              "      <td>3109.25</td>\n",
              "      <td>50460</td>\n",
              "      <td>55479</td>\n",
              "    </tr>\n",
              "    <tr>\n",
              "      <th>115353</th>\n",
              "      <td>06/03/2020</td>\n",
              "      <td>13:00</td>\n",
              "      <td>3109.00</td>\n",
              "      <td>3113.50</td>\n",
              "      <td>3108.25</td>\n",
              "      <td>3110.50</td>\n",
              "      <td>38264</td>\n",
              "      <td>37907</td>\n",
              "    </tr>\n",
              "    <tr>\n",
              "      <th>115354</th>\n",
              "      <td>06/03/2020</td>\n",
              "      <td>14:00</td>\n",
              "      <td>3110.50</td>\n",
              "      <td>3117.00</td>\n",
              "      <td>3109.75</td>\n",
              "      <td>3116.75</td>\n",
              "      <td>14006</td>\n",
              "      <td>7488</td>\n",
              "    </tr>\n",
              "  </tbody>\n",
              "</table>\n",
              "<p>115355 rows × 8 columns</p>\n",
              "</div>"
            ],
            "text/plain": [
              "              Date   Time     Open     High      Low    Close     Vol     OI\n",
              "0       06/05/2000  01:00  1498.50  1499.00  1498.50  1498.75       6      0\n",
              "1       06/05/2000  02:00  1499.25  1499.25  1497.75  1497.75      17      0\n",
              "2       06/05/2000  03:00  1497.50  1497.50  1494.50  1496.00      50      0\n",
              "3       06/05/2000  04:00  1496.25  1498.00  1495.75  1496.50      35      0\n",
              "4       06/05/2000  05:00  1496.25  1496.75  1495.00  1495.50      52      0\n",
              "...            ...    ...      ...      ...      ...      ...     ...    ...\n",
              "115350  06/03/2020  10:00  3102.50  3110.50  3101.25  3107.00  106112  98948\n",
              "115351  06/03/2020  11:00  3106.75  3117.50  3106.50  3114.25   99697  90683\n",
              "115352  06/03/2020  12:00  3114.00  3114.50  3109.00  3109.25   50460  55479\n",
              "115353  06/03/2020  13:00  3109.00  3113.50  3108.25  3110.50   38264  37907\n",
              "115354  06/03/2020  14:00  3110.50  3117.00  3109.75  3116.75   14006   7488\n",
              "\n",
              "[115355 rows x 8 columns]"
            ]
          },
          "metadata": {
            "tags": []
          },
          "execution_count": 69
        }
      ]
    },
    {
      "cell_type": "code",
      "metadata": {
        "id": "K7rLAqFJsrTt",
        "colab_type": "code",
        "colab": {
          "base_uri": "https://localhost:8080/",
          "height": 343
        },
        "outputId": "0c51fce6-98ed-4e11-b57d-7ab8d2cf6f9c"
      },
      "source": [
        "df['lag_1']=df['y'].shift(1)\n",
        "df['lag_2']=df['y'].shift(2)\n",
        "df['lag_3']=df['y'].shift(3)"
      ],
      "execution_count": 20,
      "outputs": [
        {
          "output_type": "stream",
          "text": [
            "/usr/local/lib/python3.6/dist-packages/ipykernel_launcher.py:1: SettingWithCopyWarning: \n",
            "A value is trying to be set on a copy of a slice from a DataFrame.\n",
            "Try using .loc[row_indexer,col_indexer] = value instead\n",
            "\n",
            "See the caveats in the documentation: https://pandas.pydata.org/pandas-docs/stable/user_guide/indexing.html#returning-a-view-versus-a-copy\n",
            "  \"\"\"Entry point for launching an IPython kernel.\n",
            "/usr/local/lib/python3.6/dist-packages/ipykernel_launcher.py:2: SettingWithCopyWarning: \n",
            "A value is trying to be set on a copy of a slice from a DataFrame.\n",
            "Try using .loc[row_indexer,col_indexer] = value instead\n",
            "\n",
            "See the caveats in the documentation: https://pandas.pydata.org/pandas-docs/stable/user_guide/indexing.html#returning-a-view-versus-a-copy\n",
            "  \n",
            "/usr/local/lib/python3.6/dist-packages/ipykernel_launcher.py:3: SettingWithCopyWarning: \n",
            "A value is trying to be set on a copy of a slice from a DataFrame.\n",
            "Try using .loc[row_indexer,col_indexer] = value instead\n",
            "\n",
            "See the caveats in the documentation: https://pandas.pydata.org/pandas-docs/stable/user_guide/indexing.html#returning-a-view-versus-a-copy\n",
            "  This is separate from the ipykernel package so we can avoid doing imports until\n"
          ],
          "name": "stderr"
        }
      ]
    },
    {
      "cell_type": "code",
      "metadata": {
        "id": "CfLFEfQmssKm",
        "colab_type": "code",
        "colab": {}
      },
      "source": [
        "df=df.dropna()"
      ],
      "execution_count": 0,
      "outputs": []
    },
    {
      "cell_type": "code",
      "metadata": {
        "id": "OXJzjsLts1Xo",
        "colab_type": "code",
        "colab": {
          "base_uri": "https://localhost:8080/",
          "height": 440
        },
        "outputId": "3192a75f-bbcf-42eb-c9db-66c6fb13eb25"
      },
      "source": [
        "df"
      ],
      "execution_count": 23,
      "outputs": [
        {
          "output_type": "execute_result",
          "data": {
            "text/html": [
              "<div>\n",
              "<style scoped>\n",
              "    .dataframe tbody tr th:only-of-type {\n",
              "        vertical-align: middle;\n",
              "    }\n",
              "\n",
              "    .dataframe tbody tr th {\n",
              "        vertical-align: top;\n",
              "    }\n",
              "\n",
              "    .dataframe thead th {\n",
              "        text-align: right;\n",
              "    }\n",
              "</style>\n",
              "<table border=\"1\" class=\"dataframe\">\n",
              "  <thead>\n",
              "    <tr style=\"text-align: right;\">\n",
              "      <th></th>\n",
              "      <th></th>\n",
              "      <th>y</th>\n",
              "      <th>lag_1</th>\n",
              "      <th>lag_2</th>\n",
              "      <th>lag_3</th>\n",
              "    </tr>\n",
              "    <tr>\n",
              "      <th>Date</th>\n",
              "      <th>Time</th>\n",
              "      <th></th>\n",
              "      <th></th>\n",
              "      <th></th>\n",
              "      <th></th>\n",
              "    </tr>\n",
              "  </thead>\n",
              "  <tbody>\n",
              "    <tr>\n",
              "      <th rowspan=\"4\" valign=\"top\">01/01/2018</th>\n",
              "      <th>20:00</th>\n",
              "      <td>1.25</td>\n",
              "      <td>1.00</td>\n",
              "      <td>0.50</td>\n",
              "      <td>1.00</td>\n",
              "    </tr>\n",
              "    <tr>\n",
              "      <th>21:00</th>\n",
              "      <td>2.75</td>\n",
              "      <td>1.25</td>\n",
              "      <td>1.00</td>\n",
              "      <td>0.50</td>\n",
              "    </tr>\n",
              "    <tr>\n",
              "      <th>22:00</th>\n",
              "      <td>0.50</td>\n",
              "      <td>2.75</td>\n",
              "      <td>1.25</td>\n",
              "      <td>1.00</td>\n",
              "    </tr>\n",
              "    <tr>\n",
              "      <th>23:00</th>\n",
              "      <td>0.00</td>\n",
              "      <td>0.50</td>\n",
              "      <td>2.75</td>\n",
              "      <td>1.25</td>\n",
              "    </tr>\n",
              "    <tr>\n",
              "      <th>01/01/2019</th>\n",
              "      <th>19:00</th>\n",
              "      <td>3.75</td>\n",
              "      <td>0.00</td>\n",
              "      <td>0.50</td>\n",
              "      <td>2.75</td>\n",
              "    </tr>\n",
              "    <tr>\n",
              "      <th>...</th>\n",
              "      <th>...</th>\n",
              "      <td>...</td>\n",
              "      <td>...</td>\n",
              "      <td>...</td>\n",
              "      <td>...</td>\n",
              "    </tr>\n",
              "    <tr>\n",
              "      <th rowspan=\"5\" valign=\"top\">12/31/2019</th>\n",
              "      <th>12:00</th>\n",
              "      <td>1.00</td>\n",
              "      <td>2.50</td>\n",
              "      <td>9.25</td>\n",
              "      <td>2.75</td>\n",
              "    </tr>\n",
              "    <tr>\n",
              "      <th>13:00</th>\n",
              "      <td>0.25</td>\n",
              "      <td>1.00</td>\n",
              "      <td>2.50</td>\n",
              "      <td>9.25</td>\n",
              "    </tr>\n",
              "    <tr>\n",
              "      <th>14:00</th>\n",
              "      <td>1.75</td>\n",
              "      <td>0.25</td>\n",
              "      <td>1.00</td>\n",
              "      <td>2.50</td>\n",
              "    </tr>\n",
              "    <tr>\n",
              "      <th>15:00</th>\n",
              "      <td>2.75</td>\n",
              "      <td>1.75</td>\n",
              "      <td>0.25</td>\n",
              "      <td>1.00</td>\n",
              "    </tr>\n",
              "    <tr>\n",
              "      <th>16:00</th>\n",
              "      <td>0.25</td>\n",
              "      <td>2.75</td>\n",
              "      <td>1.75</td>\n",
              "      <td>0.25</td>\n",
              "    </tr>\n",
              "  </tbody>\n",
              "</table>\n",
              "<p>72966 rows × 4 columns</p>\n",
              "</div>"
            ],
            "text/plain": [
              "                     y  lag_1  lag_2  lag_3\n",
              "Date       Time                            \n",
              "01/01/2018 20:00  1.25   1.00   0.50   1.00\n",
              "           21:00  2.75   1.25   1.00   0.50\n",
              "           22:00  0.50   2.75   1.25   1.00\n",
              "           23:00  0.00   0.50   2.75   1.25\n",
              "01/01/2019 19:00  3.75   0.00   0.50   2.75\n",
              "...                ...    ...    ...    ...\n",
              "12/31/2019 12:00  1.00   2.50   9.25   2.75\n",
              "           13:00  0.25   1.00   2.50   9.25\n",
              "           14:00  1.75   0.25   1.00   2.50\n",
              "           15:00  2.75   1.75   0.25   1.00\n",
              "           16:00  0.25   2.75   1.75   0.25\n",
              "\n",
              "[72966 rows x 4 columns]"
            ]
          },
          "metadata": {
            "tags": []
          },
          "execution_count": 23
        }
      ]
    },
    {
      "cell_type": "code",
      "metadata": {
        "id": "48Qpo1J8tKhA",
        "colab_type": "code",
        "colab": {}
      },
      "source": [
        "X=df.iloc[:,1:].values"
      ],
      "execution_count": 0,
      "outputs": []
    },
    {
      "cell_type": "code",
      "metadata": {
        "id": "zxDToETktv5E",
        "colab_type": "code",
        "colab": {}
      },
      "source": [
        "y=df.y.values"
      ],
      "execution_count": 0,
      "outputs": []
    },
    {
      "cell_type": "code",
      "metadata": {
        "id": "XNjuhvsgtzwW",
        "colab_type": "code",
        "colab": {}
      },
      "source": [
        "from sklearn.preprocessing import StandardScaler\n",
        "sc_X = StandardScaler()\n",
        "sc_y = StandardScaler()\n",
        "X = sc_X.fit_transform(X)\n",
        "y = sc_y.fit_transform(y.reshape(-1,1))"
      ],
      "execution_count": 0,
      "outputs": []
    },
    {
      "cell_type": "code",
      "metadata": {
        "id": "yvTlDrdnt4y-",
        "colab_type": "code",
        "colab": {}
      },
      "source": [
        "from xgboost import XGBRegressor\n",
        "from sklearn.ensemble import RandomForestRegressor\n",
        "from sklearn.svm import SVR\n",
        "from sklearn.linear_model import Lasso"
      ],
      "execution_count": 0,
      "outputs": []
    },
    {
      "cell_type": "code",
      "metadata": {
        "id": "KA0qjHZPuSRV",
        "colab_type": "code",
        "colab": {}
      },
      "source": [
        "XGB=XGBRegressor()\n",
        "RFR=RandomForestRegressor()\n",
        "SVR=SVR()\n",
        "Lasso=Lasso()"
      ],
      "execution_count": 0,
      "outputs": []
    },
    {
      "cell_type": "code",
      "metadata": {
        "id": "AGriaZPSumVG",
        "colab_type": "code",
        "colab": {}
      },
      "source": [
        "from sklearn.model_selection import KFold, train_test_split\n",
        "import numpy as np"
      ],
      "execution_count": 0,
      "outputs": []
    },
    {
      "cell_type": "code",
      "metadata": {
        "id": "hixb8J1lvT-w",
        "colab_type": "code",
        "colab": {}
      },
      "source": [
        "X_trains=[]\n",
        "y_trains=[]\n",
        "X_tests=[]\n",
        "y_tests=[]\n",
        "kf = KFold(n_splits=10)\n",
        "kf.get_n_splits(X)\n",
        "for train_index, test_index in kf.split(X):\n",
        "    X_trains.append(X[train_index])\n",
        "    X_tests.append(X[test_index])\n",
        "    y_trains.append(y[train_index])\n",
        "    y_tests.append(y[test_index])"
      ],
      "execution_count": 0,
      "outputs": []
    },
    {
      "cell_type": "code",
      "metadata": {
        "id": "pRbv_nrIvyOH",
        "colab_type": "code",
        "colab": {}
      },
      "source": [
        "from sklearn.metrics import mean_absolute_error"
      ],
      "execution_count": 0,
      "outputs": []
    },
    {
      "cell_type": "code",
      "metadata": {
        "id": "pLPsOSbuwAQA",
        "colab_type": "code",
        "colab": {
          "base_uri": "https://localhost:8080/",
          "height": 377
        },
        "outputId": "1dda8da5-d65f-4651-efed-296ac4e50984"
      },
      "source": [
        "XGB_error=[]\n",
        "for i in range(10):\n",
        "  print('Processing Batch : ',i+1)\n",
        "  XGB.fit(X_trains[i],y_trains[i])\n",
        "  XGB_error.append(mean_absolute_error(y_tests[i],XGB.predict(X_tests[i])))\n"
      ],
      "execution_count": 44,
      "outputs": [
        {
          "output_type": "stream",
          "text": [
            "Processing Batch :  1\n",
            "[11:50:12] WARNING: /workspace/src/objective/regression_obj.cu:152: reg:linear is now deprecated in favor of reg:squarederror.\n",
            "Processing Batch :  2\n",
            "[11:50:13] WARNING: /workspace/src/objective/regression_obj.cu:152: reg:linear is now deprecated in favor of reg:squarederror.\n",
            "Processing Batch :  3\n",
            "[11:50:15] WARNING: /workspace/src/objective/regression_obj.cu:152: reg:linear is now deprecated in favor of reg:squarederror.\n",
            "Processing Batch :  4\n",
            "[11:50:17] WARNING: /workspace/src/objective/regression_obj.cu:152: reg:linear is now deprecated in favor of reg:squarederror.\n",
            "Processing Batch :  5\n",
            "[11:50:19] WARNING: /workspace/src/objective/regression_obj.cu:152: reg:linear is now deprecated in favor of reg:squarederror.\n",
            "Processing Batch :  6\n",
            "[11:50:21] WARNING: /workspace/src/objective/regression_obj.cu:152: reg:linear is now deprecated in favor of reg:squarederror.\n",
            "Processing Batch :  7\n",
            "[11:50:22] WARNING: /workspace/src/objective/regression_obj.cu:152: reg:linear is now deprecated in favor of reg:squarederror.\n",
            "Processing Batch :  8\n",
            "[11:50:24] WARNING: /workspace/src/objective/regression_obj.cu:152: reg:linear is now deprecated in favor of reg:squarederror.\n",
            "Processing Batch :  9\n",
            "[11:50:26] WARNING: /workspace/src/objective/regression_obj.cu:152: reg:linear is now deprecated in favor of reg:squarederror.\n",
            "Processing Batch :  10\n",
            "[11:50:28] WARNING: /workspace/src/objective/regression_obj.cu:152: reg:linear is now deprecated in favor of reg:squarederror.\n"
          ],
          "name": "stdout"
        }
      ]
    },
    {
      "cell_type": "code",
      "metadata": {
        "id": "5c1-woauw488",
        "colab_type": "code",
        "colab": {
          "base_uri": "https://localhost:8080/",
          "height": 187
        },
        "outputId": "779aeeef-469a-4b3e-bf8e-39827f127455"
      },
      "source": [
        "RFR_error=[]\n",
        "for i in range(10):\n",
        "  print('Processing Batch : ',i+1)\n",
        "  RFR.fit(X_trains[i],y_trains[i])\n",
        "  RFR_error.append(mean_absolute_error(y_tests[i],RFR.predict(X_tests[i])))\n"
      ],
      "execution_count": 46,
      "outputs": [
        {
          "output_type": "stream",
          "text": [
            "Processing Batch :  1\n",
            "Processing Batch :  2\n",
            "Processing Batch :  3\n",
            "Processing Batch :  4\n",
            "Processing Batch :  5\n",
            "Processing Batch :  6\n",
            "Processing Batch :  7\n",
            "Processing Batch :  8\n",
            "Processing Batch :  9\n",
            "Processing Batch :  10\n"
          ],
          "name": "stdout"
        }
      ]
    },
    {
      "cell_type": "code",
      "metadata": {
        "id": "9gdTlh2dxU7t",
        "colab_type": "code",
        "colab": {
          "base_uri": "https://localhost:8080/",
          "height": 394
        },
        "outputId": "45024241-849d-4b6f-9b59-d14fed1a24df"
      },
      "source": [
        "SVR_error=[]\n",
        "for i in range(10):\n",
        "  print('Processing Batch : ',i+1)\n",
        "  SVR.fit(X_trains[i],y_trains[i])\n",
        "  SVR_error.append(mean_absolute_error(y_tests[i],SVR.predict(X_tests[i])))\n"
      ],
      "execution_count": 47,
      "outputs": [
        {
          "output_type": "stream",
          "text": [
            "Processing Batch :  1\n"
          ],
          "name": "stdout"
        },
        {
          "output_type": "error",
          "ename": "KeyboardInterrupt",
          "evalue": "ignored",
          "traceback": [
            "\u001b[0;31m---------------------------------------------------------------------------\u001b[0m",
            "\u001b[0;31mKeyboardInterrupt\u001b[0m                         Traceback (most recent call last)",
            "\u001b[0;32m<ipython-input-47-6fb009b578e1>\u001b[0m in \u001b[0;36m<module>\u001b[0;34m()\u001b[0m\n\u001b[1;32m      2\u001b[0m \u001b[0;32mfor\u001b[0m \u001b[0mi\u001b[0m \u001b[0;32min\u001b[0m \u001b[0mrange\u001b[0m\u001b[0;34m(\u001b[0m\u001b[0;36m10\u001b[0m\u001b[0;34m)\u001b[0m\u001b[0;34m:\u001b[0m\u001b[0;34m\u001b[0m\u001b[0;34m\u001b[0m\u001b[0m\n\u001b[1;32m      3\u001b[0m   \u001b[0mprint\u001b[0m\u001b[0;34m(\u001b[0m\u001b[0;34m'Processing Batch : '\u001b[0m\u001b[0;34m,\u001b[0m\u001b[0mi\u001b[0m\u001b[0;34m+\u001b[0m\u001b[0;36m1\u001b[0m\u001b[0;34m)\u001b[0m\u001b[0;34m\u001b[0m\u001b[0;34m\u001b[0m\u001b[0m\n\u001b[0;32m----> 4\u001b[0;31m   \u001b[0mSVR\u001b[0m\u001b[0;34m.\u001b[0m\u001b[0mfit\u001b[0m\u001b[0;34m(\u001b[0m\u001b[0mX_trains\u001b[0m\u001b[0;34m[\u001b[0m\u001b[0mi\u001b[0m\u001b[0;34m]\u001b[0m\u001b[0;34m,\u001b[0m\u001b[0my_trains\u001b[0m\u001b[0;34m[\u001b[0m\u001b[0mi\u001b[0m\u001b[0;34m]\u001b[0m\u001b[0;34m)\u001b[0m\u001b[0;34m\u001b[0m\u001b[0;34m\u001b[0m\u001b[0m\n\u001b[0m\u001b[1;32m      5\u001b[0m   \u001b[0mSVR_error\u001b[0m\u001b[0;34m.\u001b[0m\u001b[0mappend\u001b[0m\u001b[0;34m(\u001b[0m\u001b[0mmean_absolute_error\u001b[0m\u001b[0;34m(\u001b[0m\u001b[0my_tests\u001b[0m\u001b[0;34m[\u001b[0m\u001b[0mi\u001b[0m\u001b[0;34m]\u001b[0m\u001b[0;34m,\u001b[0m\u001b[0mSVR\u001b[0m\u001b[0;34m.\u001b[0m\u001b[0mpredict\u001b[0m\u001b[0;34m(\u001b[0m\u001b[0mX_tests\u001b[0m\u001b[0;34m[\u001b[0m\u001b[0mi\u001b[0m\u001b[0;34m]\u001b[0m\u001b[0;34m)\u001b[0m\u001b[0;34m)\u001b[0m\u001b[0;34m)\u001b[0m\u001b[0;34m\u001b[0m\u001b[0;34m\u001b[0m\u001b[0m\n",
            "\u001b[0;32m/usr/local/lib/python3.6/dist-packages/sklearn/svm/_base.py\u001b[0m in \u001b[0;36mfit\u001b[0;34m(self, X, y, sample_weight)\u001b[0m\n\u001b[1;32m    197\u001b[0m \u001b[0;34m\u001b[0m\u001b[0m\n\u001b[1;32m    198\u001b[0m         \u001b[0mseed\u001b[0m \u001b[0;34m=\u001b[0m \u001b[0mrnd\u001b[0m\u001b[0;34m.\u001b[0m\u001b[0mrandint\u001b[0m\u001b[0;34m(\u001b[0m\u001b[0mnp\u001b[0m\u001b[0;34m.\u001b[0m\u001b[0miinfo\u001b[0m\u001b[0;34m(\u001b[0m\u001b[0;34m'i'\u001b[0m\u001b[0;34m)\u001b[0m\u001b[0;34m.\u001b[0m\u001b[0mmax\u001b[0m\u001b[0;34m)\u001b[0m\u001b[0;34m\u001b[0m\u001b[0;34m\u001b[0m\u001b[0m\n\u001b[0;32m--> 199\u001b[0;31m         \u001b[0mfit\u001b[0m\u001b[0;34m(\u001b[0m\u001b[0mX\u001b[0m\u001b[0;34m,\u001b[0m \u001b[0my\u001b[0m\u001b[0;34m,\u001b[0m \u001b[0msample_weight\u001b[0m\u001b[0;34m,\u001b[0m \u001b[0msolver_type\u001b[0m\u001b[0;34m,\u001b[0m \u001b[0mkernel\u001b[0m\u001b[0;34m,\u001b[0m \u001b[0mrandom_seed\u001b[0m\u001b[0;34m=\u001b[0m\u001b[0mseed\u001b[0m\u001b[0;34m)\u001b[0m\u001b[0;34m\u001b[0m\u001b[0;34m\u001b[0m\u001b[0m\n\u001b[0m\u001b[1;32m    200\u001b[0m         \u001b[0;31m# see comment on the other call to np.iinfo in this file\u001b[0m\u001b[0;34m\u001b[0m\u001b[0;34m\u001b[0m\u001b[0;34m\u001b[0m\u001b[0m\n\u001b[1;32m    201\u001b[0m \u001b[0;34m\u001b[0m\u001b[0m\n",
            "\u001b[0;32m/usr/local/lib/python3.6/dist-packages/sklearn/svm/_base.py\u001b[0m in \u001b[0;36m_dense_fit\u001b[0;34m(self, X, y, sample_weight, solver_type, kernel, random_seed)\u001b[0m\n\u001b[1;32m    256\u001b[0m                 \u001b[0mcache_size\u001b[0m\u001b[0;34m=\u001b[0m\u001b[0mself\u001b[0m\u001b[0;34m.\u001b[0m\u001b[0mcache_size\u001b[0m\u001b[0;34m,\u001b[0m \u001b[0mcoef0\u001b[0m\u001b[0;34m=\u001b[0m\u001b[0mself\u001b[0m\u001b[0;34m.\u001b[0m\u001b[0mcoef0\u001b[0m\u001b[0;34m,\u001b[0m\u001b[0;34m\u001b[0m\u001b[0;34m\u001b[0m\u001b[0m\n\u001b[1;32m    257\u001b[0m                 \u001b[0mgamma\u001b[0m\u001b[0;34m=\u001b[0m\u001b[0mself\u001b[0m\u001b[0;34m.\u001b[0m\u001b[0m_gamma\u001b[0m\u001b[0;34m,\u001b[0m \u001b[0mepsilon\u001b[0m\u001b[0;34m=\u001b[0m\u001b[0mself\u001b[0m\u001b[0;34m.\u001b[0m\u001b[0mepsilon\u001b[0m\u001b[0;34m,\u001b[0m\u001b[0;34m\u001b[0m\u001b[0;34m\u001b[0m\u001b[0m\n\u001b[0;32m--> 258\u001b[0;31m                 max_iter=self.max_iter, random_seed=random_seed)\n\u001b[0m\u001b[1;32m    259\u001b[0m \u001b[0;34m\u001b[0m\u001b[0m\n\u001b[1;32m    260\u001b[0m         \u001b[0mself\u001b[0m\u001b[0;34m.\u001b[0m\u001b[0m_warn_from_fit_status\u001b[0m\u001b[0;34m(\u001b[0m\u001b[0;34m)\u001b[0m\u001b[0;34m\u001b[0m\u001b[0;34m\u001b[0m\u001b[0m\n",
            "\u001b[0;31mKeyboardInterrupt\u001b[0m: "
          ]
        }
      ]
    },
    {
      "cell_type": "code",
      "metadata": {
        "id": "iBCPTb9Uxbxz",
        "colab_type": "code",
        "colab": {
          "base_uri": "https://localhost:8080/",
          "height": 187
        },
        "outputId": "fb95bb7d-7106-427b-efd1-07522ea60781"
      },
      "source": [
        "Lasso_error=[]\n",
        "for i in range(10):\n",
        "  print('Processing Batch : ',i+1)\n",
        "  Lasso.fit(X_trains[i],y_trains[i])\n",
        "  Lasso_error.append(mean_absolute_error(y_tests[i],Lasso.predict(X_tests[i])))\n"
      ],
      "execution_count": 48,
      "outputs": [
        {
          "output_type": "stream",
          "text": [
            "Processing Batch :  1\n",
            "Processing Batch :  2\n",
            "Processing Batch :  3\n",
            "Processing Batch :  4\n",
            "Processing Batch :  5\n",
            "Processing Batch :  6\n",
            "Processing Batch :  7\n",
            "Processing Batch :  8\n",
            "Processing Batch :  9\n",
            "Processing Batch :  10\n"
          ],
          "name": "stdout"
        }
      ]
    },
    {
      "cell_type": "code",
      "metadata": {
        "id": "O2_7LI0NyrH0",
        "colab_type": "code",
        "colab": {
          "base_uri": "https://localhost:8080/",
          "height": 187
        },
        "outputId": "c451b3a2-ff91-4b53-f42b-0e55c948199f"
      },
      "source": [
        "Lasso_error"
      ],
      "execution_count": 51,
      "outputs": [
        {
          "output_type": "execute_result",
          "data": {
            "text/plain": [
              "[0.5423695270927393,\n",
              " 0.6354026375215793,\n",
              " 0.6687205312322381,\n",
              " 0.5223900929858543,\n",
              " 0.46510744276060745,\n",
              " 0.4574946200678025,\n",
              " 0.5193846506356072,\n",
              " 0.5494217970528734,\n",
              " 0.5389808074133506,\n",
              " 0.5194362651290672]"
            ]
          },
          "metadata": {
            "tags": []
          },
          "execution_count": 51
        }
      ]
    },
    {
      "cell_type": "code",
      "metadata": {
        "id": "3h7W5llcytVy",
        "colab_type": "code",
        "colab": {
          "base_uri": "https://localhost:8080/",
          "height": 187
        },
        "outputId": "535a314d-f0c4-450f-dc34-150cc59934f2"
      },
      "source": [
        "RFR_error"
      ],
      "execution_count": 52,
      "outputs": [
        {
          "output_type": "execute_result",
          "data": {
            "text/plain": [
              "[0.5292958064368225,\n",
              " 0.5849248676230868,\n",
              " 0.6308055182934061,\n",
              " 0.5086406650399192,\n",
              " 0.45731752656292535,\n",
              " 0.43108583629346914,\n",
              " 0.49897409042277613,\n",
              " 0.5319763045291654,\n",
              " 0.5342885980259594,\n",
              " 0.48508229305220474]"
            ]
          },
          "metadata": {
            "tags": []
          },
          "execution_count": 52
        }
      ]
    },
    {
      "cell_type": "code",
      "metadata": {
        "id": "VCHK071sy72O",
        "colab_type": "code",
        "colab": {}
      },
      "source": [
        "###########################################################\n",
        "#### Indicators\n",
        "import pandas_ta as ta"
      ],
      "execution_count": 0,
      "outputs": []
    },
    {
      "cell_type": "code",
      "metadata": {
        "id": "vvm3rf8TzY2C",
        "colab_type": "code",
        "colab": {}
      },
      "source": [
        "df=pd.read_csv('drive/My Drive/mozam/y.txt')\n",
        "df=pd.concat([df,ta.volatility.bbands(df.Close)],join='outer',axis=1).dropna()"
      ],
      "execution_count": 0,
      "outputs": []
    },
    {
      "cell_type": "code",
      "metadata": {
        "id": "p88LMNW3zlLO",
        "colab_type": "code",
        "colab": {
          "base_uri": "https://localhost:8080/",
          "height": 409
        },
        "outputId": "df060f05-8ea7-41ba-f5ed-7fecf793d0bf"
      },
      "source": [
        "df"
      ],
      "execution_count": 73,
      "outputs": [
        {
          "output_type": "execute_result",
          "data": {
            "text/html": [
              "<div>\n",
              "<style scoped>\n",
              "    .dataframe tbody tr th:only-of-type {\n",
              "        vertical-align: middle;\n",
              "    }\n",
              "\n",
              "    .dataframe tbody tr th {\n",
              "        vertical-align: top;\n",
              "    }\n",
              "\n",
              "    .dataframe thead th {\n",
              "        text-align: right;\n",
              "    }\n",
              "</style>\n",
              "<table border=\"1\" class=\"dataframe\">\n",
              "  <thead>\n",
              "    <tr style=\"text-align: right;\">\n",
              "      <th></th>\n",
              "      <th>Date</th>\n",
              "      <th>Time</th>\n",
              "      <th>Open</th>\n",
              "      <th>High</th>\n",
              "      <th>Low</th>\n",
              "      <th>Close</th>\n",
              "      <th>Vol</th>\n",
              "      <th>OI</th>\n",
              "      <th>BBL_5</th>\n",
              "      <th>BBM_5</th>\n",
              "      <th>BBU_5</th>\n",
              "    </tr>\n",
              "  </thead>\n",
              "  <tbody>\n",
              "    <tr>\n",
              "      <th>4</th>\n",
              "      <td>06/05/2000</td>\n",
              "      <td>05:00</td>\n",
              "      <td>1496.25</td>\n",
              "      <td>1496.75</td>\n",
              "      <td>1495.00</td>\n",
              "      <td>1495.50</td>\n",
              "      <td>52</td>\n",
              "      <td>0</td>\n",
              "      <td>1494.240113</td>\n",
              "      <td>1496.90</td>\n",
              "      <td>1499.559887</td>\n",
              "    </tr>\n",
              "    <tr>\n",
              "      <th>5</th>\n",
              "      <td>06/05/2000</td>\n",
              "      <td>06:00</td>\n",
              "      <td>1495.25</td>\n",
              "      <td>1495.50</td>\n",
              "      <td>1493.75</td>\n",
              "      <td>1494.75</td>\n",
              "      <td>65</td>\n",
              "      <td>0</td>\n",
              "      <td>1493.847224</td>\n",
              "      <td>1496.10</td>\n",
              "      <td>1498.352776</td>\n",
              "    </tr>\n",
              "    <tr>\n",
              "      <th>6</th>\n",
              "      <td>06/05/2000</td>\n",
              "      <td>07:00</td>\n",
              "      <td>1495.00</td>\n",
              "      <td>1496.75</td>\n",
              "      <td>1495.00</td>\n",
              "      <td>1496.50</td>\n",
              "      <td>57</td>\n",
              "      <td>0</td>\n",
              "      <td>1494.366760</td>\n",
              "      <td>1495.85</td>\n",
              "      <td>1497.333240</td>\n",
              "    </tr>\n",
              "    <tr>\n",
              "      <th>7</th>\n",
              "      <td>06/05/2000</td>\n",
              "      <td>08:00</td>\n",
              "      <td>1496.50</td>\n",
              "      <td>1497.25</td>\n",
              "      <td>1492.25</td>\n",
              "      <td>1493.25</td>\n",
              "      <td>310</td>\n",
              "      <td>0</td>\n",
              "      <td>1492.575115</td>\n",
              "      <td>1495.30</td>\n",
              "      <td>1498.024885</td>\n",
              "    </tr>\n",
              "    <tr>\n",
              "      <th>8</th>\n",
              "      <td>06/05/2000</td>\n",
              "      <td>09:00</td>\n",
              "      <td>1493.50</td>\n",
              "      <td>1498.50</td>\n",
              "      <td>1492.75</td>\n",
              "      <td>1497.50</td>\n",
              "      <td>2775</td>\n",
              "      <td>0</td>\n",
              "      <td>1492.240399</td>\n",
              "      <td>1495.50</td>\n",
              "      <td>1498.759601</td>\n",
              "    </tr>\n",
              "    <tr>\n",
              "      <th>...</th>\n",
              "      <td>...</td>\n",
              "      <td>...</td>\n",
              "      <td>...</td>\n",
              "      <td>...</td>\n",
              "      <td>...</td>\n",
              "      <td>...</td>\n",
              "      <td>...</td>\n",
              "      <td>...</td>\n",
              "      <td>...</td>\n",
              "      <td>...</td>\n",
              "      <td>...</td>\n",
              "    </tr>\n",
              "    <tr>\n",
              "      <th>115350</th>\n",
              "      <td>06/03/2020</td>\n",
              "      <td>10:00</td>\n",
              "      <td>3102.50</td>\n",
              "      <td>3110.50</td>\n",
              "      <td>3101.25</td>\n",
              "      <td>3107.00</td>\n",
              "      <td>106112</td>\n",
              "      <td>98948</td>\n",
              "      <td>3081.464523</td>\n",
              "      <td>3096.95</td>\n",
              "      <td>3112.435477</td>\n",
              "    </tr>\n",
              "    <tr>\n",
              "      <th>115351</th>\n",
              "      <td>06/03/2020</td>\n",
              "      <td>11:00</td>\n",
              "      <td>3106.75</td>\n",
              "      <td>3117.50</td>\n",
              "      <td>3106.50</td>\n",
              "      <td>3114.25</td>\n",
              "      <td>99697</td>\n",
              "      <td>90683</td>\n",
              "      <td>3084.278644</td>\n",
              "      <td>3102.20</td>\n",
              "      <td>3120.121356</td>\n",
              "    </tr>\n",
              "    <tr>\n",
              "      <th>115352</th>\n",
              "      <td>06/03/2020</td>\n",
              "      <td>12:00</td>\n",
              "      <td>3114.00</td>\n",
              "      <td>3114.50</td>\n",
              "      <td>3109.00</td>\n",
              "      <td>3109.25</td>\n",
              "      <td>50460</td>\n",
              "      <td>55479</td>\n",
              "      <td>3091.844066</td>\n",
              "      <td>3105.75</td>\n",
              "      <td>3119.655934</td>\n",
              "    </tr>\n",
              "    <tr>\n",
              "      <th>115353</th>\n",
              "      <td>06/03/2020</td>\n",
              "      <td>13:00</td>\n",
              "      <td>3109.00</td>\n",
              "      <td>3113.50</td>\n",
              "      <td>3108.25</td>\n",
              "      <td>3110.50</td>\n",
              "      <td>38264</td>\n",
              "      <td>37907</td>\n",
              "      <td>3099.771656</td>\n",
              "      <td>3108.65</td>\n",
              "      <td>3117.528344</td>\n",
              "    </tr>\n",
              "    <tr>\n",
              "      <th>115354</th>\n",
              "      <td>06/03/2020</td>\n",
              "      <td>14:00</td>\n",
              "      <td>3110.50</td>\n",
              "      <td>3117.00</td>\n",
              "      <td>3109.75</td>\n",
              "      <td>3116.75</td>\n",
              "      <td>14006</td>\n",
              "      <td>7488</td>\n",
              "      <td>3103.712590</td>\n",
              "      <td>3111.55</td>\n",
              "      <td>3119.387410</td>\n",
              "    </tr>\n",
              "  </tbody>\n",
              "</table>\n",
              "<p>115351 rows × 11 columns</p>\n",
              "</div>"
            ],
            "text/plain": [
              "              Date   Time     Open  ...        BBL_5    BBM_5        BBU_5\n",
              "4       06/05/2000  05:00  1496.25  ...  1494.240113  1496.90  1499.559887\n",
              "5       06/05/2000  06:00  1495.25  ...  1493.847224  1496.10  1498.352776\n",
              "6       06/05/2000  07:00  1495.00  ...  1494.366760  1495.85  1497.333240\n",
              "7       06/05/2000  08:00  1496.50  ...  1492.575115  1495.30  1498.024885\n",
              "8       06/05/2000  09:00  1493.50  ...  1492.240399  1495.50  1498.759601\n",
              "...            ...    ...      ...  ...          ...      ...          ...\n",
              "115350  06/03/2020  10:00  3102.50  ...  3081.464523  3096.95  3112.435477\n",
              "115351  06/03/2020  11:00  3106.75  ...  3084.278644  3102.20  3120.121356\n",
              "115352  06/03/2020  12:00  3114.00  ...  3091.844066  3105.75  3119.655934\n",
              "115353  06/03/2020  13:00  3109.00  ...  3099.771656  3108.65  3117.528344\n",
              "115354  06/03/2020  14:00  3110.50  ...  3103.712590  3111.55  3119.387410\n",
              "\n",
              "[115351 rows x 11 columns]"
            ]
          },
          "metadata": {
            "tags": []
          },
          "execution_count": 73
        }
      ]
    },
    {
      "cell_type": "code",
      "metadata": {
        "id": "JjwKgKf50FEU",
        "colab_type": "code",
        "colab": {}
      },
      "source": [
        "df['rsi']=ta.momentum.rsi(df.Close,2)"
      ],
      "execution_count": 0,
      "outputs": []
    },
    {
      "cell_type": "code",
      "metadata": {
        "id": "mpmH3V380Q8X",
        "colab_type": "code",
        "colab": {}
      },
      "source": [
        "df=df.dropna()"
      ],
      "execution_count": 0,
      "outputs": []
    },
    {
      "cell_type": "code",
      "metadata": {
        "id": "fwoazRqh0cXN",
        "colab_type": "code",
        "colab": {}
      },
      "source": [
        "df=pd.concat([df,ta.momentum.stoch(df.High,df.Low,df.Close)],join='outer',axis=1).dropna()"
      ],
      "execution_count": 0,
      "outputs": []
    },
    {
      "cell_type": "code",
      "metadata": {
        "id": "DZesJ3Dp0hWX",
        "colab_type": "code",
        "colab": {}
      },
      "source": [
        "df['super_trend']=ta.overlap.supertrend(df.High, df.Low, df.Close,21)['SUPERT_21_3.0']"
      ],
      "execution_count": 0,
      "outputs": []
    },
    {
      "cell_type": "code",
      "metadata": {
        "id": "_rVPUSvt20aY",
        "colab_type": "code",
        "colab": {
          "base_uri": "https://localhost:8080/",
          "height": 34
        },
        "outputId": "8446de62-e613-4080-bdca-8667d6bf7326"
      },
      "source": [
        "df['vwap']=ta.overlap.vwap(df.High,df.Low,df.Close,df.Vol)"
      ],
      "execution_count": 84,
      "outputs": [
        {
          "output_type": "stream",
          "text": [
            "[!] VWAP volume series is not datetime ordered. Results may not be as expected.\n"
          ],
          "name": "stdout"
        }
      ]
    },
    {
      "cell_type": "code",
      "metadata": {
        "id": "DsAbHkcl33xP",
        "colab_type": "code",
        "colab": {}
      },
      "source": [
        "df=df.dropna()"
      ],
      "execution_count": 0,
      "outputs": []
    },
    {
      "cell_type": "code",
      "metadata": {
        "id": "kqPe6H8T4b6Y",
        "colab_type": "code",
        "colab": {}
      },
      "source": [
        "df=df.set_index(['Date','Time'])"
      ],
      "execution_count": 0,
      "outputs": []
    },
    {
      "cell_type": "code",
      "metadata": {
        "id": "Ge72rNJ34ipl",
        "colab_type": "code",
        "colab": {}
      },
      "source": [
        "df['y']=(df['High']-df['Low']).shift(1)"
      ],
      "execution_count": 0,
      "outputs": []
    },
    {
      "cell_type": "code",
      "metadata": {
        "id": "ap3nEHrN4-oc",
        "colab_type": "code",
        "colab": {}
      },
      "source": [
        "df=df.dropna()"
      ],
      "execution_count": 0,
      "outputs": []
    },
    {
      "cell_type": "code",
      "metadata": {
        "id": "vulaPuvH4_9V",
        "colab_type": "code",
        "colab": {}
      },
      "source": [
        "df['Close']=df.Close.shift(1)\n",
        "df=df.dropna()\n",
        "X=df.drop(columns=['Close'])\n",
        "y=df.Close"
      ],
      "execution_count": 0,
      "outputs": []
    },
    {
      "cell_type": "code",
      "metadata": {
        "id": "rktjW44D5Mma",
        "colab_type": "code",
        "colab": {}
      },
      "source": [
        "df.to_csv('indicated.csv')"
      ],
      "execution_count": 0,
      "outputs": []
    },
    {
      "cell_type": "code",
      "metadata": {
        "id": "OeSE-_th5Wvv",
        "colab_type": "code",
        "colab": {}
      },
      "source": [
        "from sklearn.preprocessing import StandardScaler\n",
        "sc_X = StandardScaler()\n",
        "sc_y = StandardScaler()\n",
        "X = sc_X.fit_transform(X.values)\n",
        "y = sc_y.fit_transform(y.values.reshape(-1,1))"
      ],
      "execution_count": 0,
      "outputs": []
    },
    {
      "cell_type": "code",
      "metadata": {
        "id": "Qf2NInKZ52_K",
        "colab_type": "code",
        "colab": {}
      },
      "source": [
        "X_trains=[]\n",
        "y_trains=[]\n",
        "X_tests=[]\n",
        "y_tests=[]\n",
        "kf = KFold(n_splits=10)\n",
        "kf.get_n_splits(X)\n",
        "for train_index, test_index in kf.split(X):\n",
        "    X_trains.append(X[train_index])\n",
        "    X_tests.append(X[test_index])\n",
        "    y_trains.append(y[train_index])\n",
        "    y_tests.append(y[test_index])"
      ],
      "execution_count": 0,
      "outputs": []
    },
    {
      "cell_type": "code",
      "metadata": {
        "id": "JFi2mVbl6Q8y",
        "colab_type": "code",
        "colab": {
          "base_uri": "https://localhost:8080/",
          "height": 377
        },
        "outputId": "fc2a3147-9eca-4f45-8580-1ea9809e88b0"
      },
      "source": [
        "XGB_error=[]\n",
        "for i in range(10):\n",
        "  print('Processing Batch : ',i+1)\n",
        "  XGB.fit(X_trains[i],y_trains[i])\n",
        "  XGB_error.append(mean_absolute_error(y_tests[i],XGB.predict(X_tests[i])))"
      ],
      "execution_count": 151,
      "outputs": [
        {
          "output_type": "stream",
          "text": [
            "Processing Batch :  1\n",
            "[12:57:54] WARNING: /workspace/src/objective/regression_obj.cu:152: reg:linear is now deprecated in favor of reg:squarederror.\n",
            "Processing Batch :  2\n",
            "[12:58:00] WARNING: /workspace/src/objective/regression_obj.cu:152: reg:linear is now deprecated in favor of reg:squarederror.\n",
            "Processing Batch :  3\n",
            "[12:58:06] WARNING: /workspace/src/objective/regression_obj.cu:152: reg:linear is now deprecated in favor of reg:squarederror.\n",
            "Processing Batch :  4\n",
            "[12:58:12] WARNING: /workspace/src/objective/regression_obj.cu:152: reg:linear is now deprecated in favor of reg:squarederror.\n",
            "Processing Batch :  5\n",
            "[12:58:18] WARNING: /workspace/src/objective/regression_obj.cu:152: reg:linear is now deprecated in favor of reg:squarederror.\n",
            "Processing Batch :  6\n",
            "[12:58:24] WARNING: /workspace/src/objective/regression_obj.cu:152: reg:linear is now deprecated in favor of reg:squarederror.\n",
            "Processing Batch :  7\n",
            "[12:58:30] WARNING: /workspace/src/objective/regression_obj.cu:152: reg:linear is now deprecated in favor of reg:squarederror.\n",
            "Processing Batch :  8\n",
            "[12:58:36] WARNING: /workspace/src/objective/regression_obj.cu:152: reg:linear is now deprecated in favor of reg:squarederror.\n",
            "Processing Batch :  9\n",
            "[12:58:42] WARNING: /workspace/src/objective/regression_obj.cu:152: reg:linear is now deprecated in favor of reg:squarederror.\n",
            "Processing Batch :  10\n",
            "[12:58:48] WARNING: /workspace/src/objective/regression_obj.cu:152: reg:linear is now deprecated in favor of reg:squarederror.\n"
          ],
          "name": "stdout"
        }
      ]
    },
    {
      "cell_type": "code",
      "metadata": {
        "id": "xuUuLtlhA2rB",
        "colab_type": "code",
        "colab": {
          "base_uri": "https://localhost:8080/",
          "height": 187
        },
        "outputId": "b5ce7576-581f-4d39-9d1c-5e773b31f733"
      },
      "source": [
        "XGB_error"
      ],
      "execution_count": 152,
      "outputs": [
        {
          "output_type": "execute_result",
          "data": {
            "text/plain": [
              "[0.00538819330390826,\n",
              " 0.005494958084942229,\n",
              " 0.005216749417844086,\n",
              " 0.005937511981884125,\n",
              " 0.02979015413103426,\n",
              " 0.004527586733735944,\n",
              " 0.0291339178458578,\n",
              " 0.01803514819163008,\n",
              " 0.0204530237241619,\n",
              " 0.10926936737525662]"
            ]
          },
          "metadata": {
            "tags": []
          },
          "execution_count": 152
        }
      ]
    },
    {
      "cell_type": "code",
      "metadata": {
        "id": "7rjt5I2g67j1",
        "colab_type": "code",
        "colab": {
          "base_uri": "https://localhost:8080/",
          "height": 187
        },
        "outputId": "4ada18b8-9601-441f-ddf4-152bf13f5da9"
      },
      "source": [
        "Lasso_error=[]\n",
        "for i in range(10):\n",
        "  print('Processing Batch : ',i+1)\n",
        "  Lasso.fit(X_trains[i],y_trains[i])\n",
        "  Lasso_error.append(mean_absolute_error(y_tests[i],Lasso.predict(X_tests[i])))"
      ],
      "execution_count": 153,
      "outputs": [
        {
          "output_type": "stream",
          "text": [
            "Processing Batch :  1\n",
            "Processing Batch :  2\n",
            "Processing Batch :  3\n",
            "Processing Batch :  4\n",
            "Processing Batch :  5\n",
            "Processing Batch :  6\n",
            "Processing Batch :  7\n",
            "Processing Batch :  8\n",
            "Processing Batch :  9\n",
            "Processing Batch :  10\n"
          ],
          "name": "stdout"
        }
      ]
    },
    {
      "cell_type": "code",
      "metadata": {
        "id": "iEtDb3EZ7D5W",
        "colab_type": "code",
        "colab": {
          "base_uri": "https://localhost:8080/",
          "height": 187
        },
        "outputId": "f5d3b075-ad13-4ca0-c267-7c4ec5dea1d6"
      },
      "source": [
        "Lasso_error"
      ],
      "execution_count": 154,
      "outputs": [
        {
          "output_type": "execute_result",
          "data": {
            "text/plain": [
              "[0.6383493791050251,\n",
              " 0.9534462771347665,\n",
              " 0.5931368363602165,\n",
              " 0.42064156446208667,\n",
              " 1.1735768853937898,\n",
              " 0.6312834011624642,\n",
              " 0.22850624891028395,\n",
              " 0.7234789613106883,\n",
              " 1.5262360462154172,\n",
              " 2.239952918221777]"
            ]
          },
          "metadata": {
            "tags": []
          },
          "execution_count": 154
        }
      ]
    },
    {
      "cell_type": "code",
      "metadata": {
        "id": "0GiCSzXp7GNZ",
        "colab_type": "code",
        "colab": {
          "base_uri": "https://localhost:8080/",
          "height": 34
        },
        "outputId": "e91c1c07-6cbb-4bc4-d20e-305ef497f468"
      },
      "source": [
        "RFR_error=[]\n",
        "for i in range(10):\n",
        "  print('Processing Batch : ',i+1)\n",
        "  RFR.fit(X_trains[i],y_trains[i])\n",
        "  RFR_error.append(mean_absolute_error(y_tests[i],RFR.predict(X_tests[i])))"
      ],
      "execution_count": 0,
      "outputs": [
        {
          "output_type": "stream",
          "text": [
            "Processing Batch :  1\n"
          ],
          "name": "stdout"
        }
      ]
    },
    {
      "cell_type": "code",
      "metadata": {
        "id": "GeQ5pr3j7Umy",
        "colab_type": "code",
        "colab": {}
      },
      "source": [
        "df['Close']=df.Close.shift(-1)"
      ],
      "execution_count": 0,
      "outputs": []
    },
    {
      "cell_type": "code",
      "metadata": {
        "id": "DGujTtVl-dha",
        "colab_type": "code",
        "colab": {}
      },
      "source": [
        "df=df.dropna()"
      ],
      "execution_count": 0,
      "outputs": []
    },
    {
      "cell_type": "code",
      "metadata": {
        "id": "KgpbAH1D-pTE",
        "colab_type": "code",
        "colab": {}
      },
      "source": [
        "import seaborn as sns\n",
        "import matplotlib.pyplot as plt"
      ],
      "execution_count": 0,
      "outputs": []
    },
    {
      "cell_type": "code",
      "metadata": {
        "id": "tIVp_0d2-lp4",
        "colab_type": "code",
        "colab": {
          "base_uri": "https://localhost:8080/",
          "height": 666
        },
        "outputId": "0fbb997b-0ae4-4982-8257-6bad311aa559"
      },
      "source": [
        "plt.figure(figsize=(10,10))\n",
        "sns.heatmap(df.corr())"
      ],
      "execution_count": 141,
      "outputs": [
        {
          "output_type": "execute_result",
          "data": {
            "text/plain": [
              "<matplotlib.axes._subplots.AxesSubplot at 0x7f74e0d7cef0>"
            ]
          },
          "metadata": {
            "tags": []
          },
          "execution_count": 141
        },
        {
          "output_type": "display_data",
          "data": {
            "image/png": "[encoded data removed]",
            "text/plain": [
              "<Figure size 720x720 with 2 Axes>"
            ]
          },
          "metadata": {
            "tags": [],
            "needs_background": "light"
          }
        }
      ]
    },
    {
      "cell_type": "code",
      "metadata": {
        "id": "kVqHNPUkALgS",
        "colab_type": "code",
        "colab": {
          "base_uri": "https://localhost:8080/",
          "height": 85
        },
        "outputId": "2ba56c71-039c-48ca-f37d-c1397adb7fe3"
      },
      "source": [
        "df.columns"
      ],
      "execution_count": 145,
      "outputs": [
        {
          "output_type": "execute_result",
          "data": {
            "text/plain": [
              "Index(['Open', 'High', 'Low', 'Close', 'Vol', 'OI', 'BBL_5', 'BBM_5', 'BBU_5',\n",
              "       'rsi', 'STOCHFk_14', 'STOCHFd_3', 'STOCHk_5', 'STOCHd_3', 'super_trend',\n",
              "       'vwap'],\n",
              "      dtype='object')"
            ]
          },
          "metadata": {
            "tags": []
          },
          "execution_count": 145
        }
      ]
    },
    {
      "cell_type": "code",
      "metadata": {
        "id": "dVKJIaRN-ncM",
        "colab_type": "code",
        "colab": {}
      },
      "source": [
        "df=df.drop(columns=['Vol','OI','rsi','STOCHFk_14', 'STOCHFd_3', 'STOCHk_5', 'STOCHd_3'])"
      ],
      "execution_count": 0,
      "outputs": []
    },
    {
      "cell_type": "code",
      "metadata": {
        "id": "2W-tmqn--vnZ",
        "colab_type": "code",
        "colab": {}
      },
      "source": [
        ""
      ],
      "execution_count": 0,
      "outputs": []
    }
  ]
}