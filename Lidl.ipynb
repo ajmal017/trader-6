{
  "nbformat": 4,
  "nbformat_minor": 0,
  "metadata": {
    "colab": {
      "name": "Lidl.ipynb",
      "provenance": [],
      "collapsed_sections": [],
      "authorship_tag": "ABX9TyO2TIKAqsAmuKNnMzeEo4nD",
      "include_colab_link": true
    },
    "kernelspec": {
      "name": "python3",
      "display_name": "Python 3"
    }
  },
  "cells": [
    {
      "cell_type": "markdown",
      "metadata": {
        "id": "view-in-github",
        "colab_type": "text"
      },
      "source": [
        "<a href=\"https://colab.research.google.com/github/moazzamfarid/trader/blob/master/Lidl.ipynb\" target=\"_parent\"><img src=\"https://colab.research.google.com/assets/colab-badge.svg\" alt=\"Open In Colab\"/></a>"
      ]
    },
    {
      "cell_type": "code",
      "metadata": {
        "id": "9ftk8n9TVB_R",
        "colab_type": "code",
        "colab": {
          "base_uri": "https://localhost:8080/",
          "height": 563
        },
        "outputId": "4e277cbc-94d5-4506-ed51-73ff99b53e4f"
      },
      "source": [
        "!curl -X POST \"https://api-2445582026130.production.gw.apicast.io/domain-mapper?X_user_key=d64021046954db396d64636496c93baa\" -d'[\"Lidl\"]'"
      ],
      "execution_count": 6,
      "outputs": [
        {
          "output_type": "stream",
          "text": [
            "[\n",
            "  {\n",
            "    \"Original Input\": \"Lidl\", \n",
            "    \"Company Name\": \"Lidl\", \n",
            "    \"Confidence\": 0.99, \n",
            "    \"Confidence Level\": \"High\", \n",
            "    \"Aliases\": [\n",
            "      \"Best Market,Lidl,Schwarz Gruppe\", \n",
            "      \"Lidl Stiftung & Co. KG\", \n",
            "      \"Lidl US\", \n",
            "      \"Schwarz Group\", \n",
            "      \"Schwarz Gruppe\"\n",
            "    ], \n",
            "    \"Alternative Company Matches\": [], \n",
            "    \"Related Entities\": [\n",
            "      \"Lidl\", \n",
            "      \"Lidl US\", \n",
            "      \"Lidl Stiftung & Co KG\", \n",
            "      \"Schwarz Group\"\n",
            "    ], \n",
            "    \"Ticker\": null, \n",
            "    \"Exchange\": null, \n",
            "    \"Majority Owner\": \"Schwarz Group\", \n",
            "    \"FIGI\": null, \n",
            "    \"Websites\": [\n",
            "      \"lidl.de\", \n",
            "      \"lidl.it\", \n",
            "      \"lidl.com\"\n",
            "    ]\n",
            "  }\n",
            "]\n"
          ],
          "name": "stdout"
        }
      ]
    },
    {
      "cell_type": "code",
      "metadata": {
        "id": "bctZX-t3dDjt",
        "colab_type": "code",
        "colab": {
          "base_uri": "https://localhost:8080/",
          "height": 563
        },
        "outputId": "5c017cc8-c6db-40c6-831f-8c2c54872e64"
      },
      "source": [
        "!curl -X POST \"https://api-2445582026130.production.gw.apicast.io/merchant-mapper?X_user_key=d64021046954db396d64636496c93baa\" -d'[\"Lidl\"]'"
      ],
      "execution_count": 7,
      "outputs": [
        {
          "output_type": "stream",
          "text": [
            "[\n",
            "  {\n",
            "    \"Original Input\": \"Lidl\", \n",
            "    \"Company Name\": \"Lidl\", \n",
            "    \"Confidence\": 0.99, \n",
            "    \"Confidence Level\": \"High\", \n",
            "    \"Aliases\": [\n",
            "      \"Best Market,Lidl,Schwarz Gruppe\", \n",
            "      \"Lidl Stiftung & Co. KG\", \n",
            "      \"Lidl US\", \n",
            "      \"Schwarz Group\", \n",
            "      \"Schwarz Gruppe\"\n",
            "    ], \n",
            "    \"Alternative Company Matches\": [], \n",
            "    \"Related Entities\": [\n",
            "      \"Lidl\", \n",
            "      \"Lidl US\", \n",
            "      \"Lidl Stiftung & Co KG\", \n",
            "      \"Schwarz Group\"\n",
            "    ], \n",
            "    \"Ticker\": null, \n",
            "    \"Exchange\": null, \n",
            "    \"Majority Owner\": \"Schwarz Group\", \n",
            "    \"FIGI\": null, \n",
            "    \"Websites\": [\n",
            "      \"lidl.de\", \n",
            "      \"lidl.it\", \n",
            "      \"lidl.com\"\n",
            "    ]\n",
            "  }\n",
            "]\n"
          ],
          "name": "stdout"
        }
      ]
    },
    {
      "cell_type": "code",
      "metadata": {
        "id": "RcjJneXHd0g4",
        "colab_type": "code",
        "colab": {
          "base_uri": "https://localhost:8080/",
          "height": 563
        },
        "outputId": "8834a419-2a8c-4a10-b8b3-e86e8a69ad17"
      },
      "source": [
        "!curl -X POST \"https://api-2445582026130.production.gw.apicast.io/product-mapper?X_user_key=f816b9125492069f7f2e3b1cc60659f0\" -d'[\"Lidl\"]'"
      ],
      "execution_count": 8,
      "outputs": [
        {
          "output_type": "stream",
          "text": [
            "[\n",
            "  {\n",
            "    \"Original Input\": \"Lidl\", \n",
            "    \"Company Name\": \"Lidl\", \n",
            "    \"Confidence\": 0.99, \n",
            "    \"Confidence Level\": \"High\", \n",
            "    \"Aliases\": [\n",
            "      \"Best Market,Lidl,Schwarz Gruppe\", \n",
            "      \"Lidl Stiftung & Co. KG\", \n",
            "      \"Lidl US\", \n",
            "      \"Schwarz Group\", \n",
            "      \"Schwarz Gruppe\"\n",
            "    ], \n",
            "    \"Alternative Company Matches\": [], \n",
            "    \"Related Entities\": [\n",
            "      \"Lidl\", \n",
            "      \"Lidl US\", \n",
            "      \"Lidl Stiftung & Co KG\", \n",
            "      \"Schwarz Group\"\n",
            "    ], \n",
            "    \"Ticker\": null, \n",
            "    \"Exchange\": null, \n",
            "    \"Majority Owner\": \"Schwarz Group\", \n",
            "    \"FIGI\": null, \n",
            "    \"Websites\": [\n",
            "      \"lidl.it\", \n",
            "      \"lidl.de\", \n",
            "      \"lidl.com\"\n",
            "    ]\n",
            "  }\n",
            "]\n"
          ],
          "name": "stdout"
        }
      ]
    },
    {
      "cell_type": "code",
      "metadata": {
        "id": "z8dLlKnSekuU",
        "colab_type": "code",
        "colab": {}
      },
      "source": [
        ""
      ],
      "execution_count": null,
      "outputs": []
    }
  ]
}