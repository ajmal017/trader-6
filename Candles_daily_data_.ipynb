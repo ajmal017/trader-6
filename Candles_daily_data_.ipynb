{
  "nbformat": 4,
  "nbformat_minor": 0,
  "metadata": {
    "colab": {
      "name": "Candles daily data .ipynb",
      "provenance": [],
      "mount_file_id": "1k3E-JGTWyAkz-X0KfPVQaYwv-FU_pkMM",
      "authorship_tag": "ABX9TyPoOGgBfhVoGh8Bsw4LYL57",
      "include_colab_link": true
    },
    "kernelspec": {
      "name": "python3",
      "display_name": "Python 3"
    }
  },
  "cells": [
    {
      "cell_type": "markdown",
      "metadata": {
        "id": "view-in-github",
        "colab_type": "text"
      },
      "source": [
        "<a href=\"https://colab.research.google.com/github/moazzamfarid/trader/blob/master/Candles_daily_data_.ipynb\" target=\"_parent\"><img src=\"https://colab.research.google.com/assets/colab-badge.svg\" alt=\"Open In Colab\"/></a>"
      ]
    },
    {
      "cell_type": "code",
      "metadata": {
        "id": "aiagZ8pL1aVQ",
        "colab_type": "code",
        "colab": {}
      },
      "source": [
        "import pandas as pd\n",
        "import numpy as np\n",
        "from sklearn.metrics import mean_absolute_error\n",
        "from sklearn.model_selection import KFold, train_test_split"
      ],
      "execution_count": 0,
      "outputs": []
    },
    {
      "cell_type": "code",
      "metadata": {
        "id": "2YTsglKb1uMk",
        "colab_type": "code",
        "colab": {}
      },
      "source": [
        "df=pd.read_csv('drive/My Drive/mozam/Es.D.txt').set_index(['Date','Time'])"
      ],
      "execution_count": 0,
      "outputs": []
    },
    {
      "cell_type": "code",
      "metadata": {
        "id": "o2JX5I_u14xk",
        "colab_type": "code",
        "colab": {}
      },
      "source": [
        "!pip3 install pandas_ta\n",
        "import pandas_ta as ta"
      ],
      "execution_count": 0,
      "outputs": []
    },
    {
      "cell_type": "code",
      "metadata": {
        "id": "4ayImnFg_E0J",
        "colab_type": "code",
        "colab": {}
      },
      "source": [
        "df=pd.concat([df,ta.volatility.bbands(df.Close)],join='outer',axis=1)"
      ],
      "execution_count": 0,
      "outputs": []
    },
    {
      "cell_type": "code",
      "metadata": {
        "id": "3n-Vj6Fm_anJ",
        "colab_type": "code",
        "colab": {
          "base_uri": "https://localhost:8080/",
          "height": 34
        },
        "outputId": "d54ef345-2b93-498e-f842-4e084b347050"
      },
      "source": [
        "df['rsi']=ta.momentum.rsi(df.Close,2)\n",
        "df['vwap']=ta.overlap.vwap(df.High,df.Low,df.Close,df.Vol)\n",
        "df=pd.concat([df,ta.momentum.stoch(df.High,df.Low,df.Close)],join='outer',axis=1).dropna()\n",
        "df['super_trend']=ta.overlap.supertrend(df.High, df.Low, df.Close,21)['SUPERT_21_3.0']"
      ],
      "execution_count": 8,
      "outputs": [
        {
          "output_type": "stream",
          "text": [
            "[!] VWAP volume series is not datetime ordered. Results may not be as expected.\n"
          ],
          "name": "stdout"
        }
      ]
    },
    {
      "cell_type": "code",
      "metadata": {
        "id": "FwZ6eEaC_beY",
        "colab_type": "code",
        "colab": {}
      },
      "source": [
        "df['adx']=ta.trend.adx(df.High,df.Low,df.Close).ADX_14\n",
        "df['fwma']=ta.overlap.fwma(df.Close)\n",
        "df['willr']=ta.momentum.willr(df.High,df.Low,df.Close)\n",
        "df['bias']=ta.momentum.bias(df.Close)"
      ],
      "execution_count": 0,
      "outputs": []
    },
    {
      "cell_type": "code",
      "metadata": {
        "id": "0Pwv0dMXAXlG",
        "colab_type": "code",
        "colab": {
          "base_uri": "https://localhost:8080/",
          "height": 71
        },
        "outputId": "1591e9de-f8f3-478b-ad8b-106ccf37974f"
      },
      "source": [
        "import matplotlib.pyplot as plt\n",
        "import seaborn as sns"
      ],
      "execution_count": 13,
      "outputs": [
        {
          "output_type": "stream",
          "text": [
            "/usr/local/lib/python3.6/dist-packages/statsmodels/tools/_testing.py:19: FutureWarning: pandas.util.testing is deprecated. Use the functions in the public API at pandas.testing instead.\n",
            "  import pandas.util.testing as tm\n"
          ],
          "name": "stderr"
        }
      ]
    },
    {
      "cell_type": "code",
      "metadata": {
        "id": "f-TPMP92Adim",
        "colab_type": "code",
        "colab": {
          "base_uri": "https://localhost:8080/",
          "height": 612
        },
        "outputId": "620b9c1f-e01a-4d07-98bd-d3f88ee17cd5"
      },
      "source": [
        "plt.figure(figsize=(9,9))\n",
        "sns.heatmap(df.corr())"
      ],
      "execution_count": 15,
      "outputs": [
        {
          "output_type": "execute_result",
          "data": {
            "text/plain": [
              "<matplotlib.axes._subplots.AxesSubplot at 0x7f3321680c88>"
            ]
          },
          "metadata": {
            "tags": []
          },
          "execution_count": 15
        },
        {
          "output_type": "display_data",
          "data": {
            "image/png": "[encoded data removed]",
            "text/plain": [
              "<Figure size 648x648 with 2 Axes>"
            ]
          },
          "metadata": {
            "tags": [],
            "needs_background": "light"
          }
        }
      ]
    },
    {
      "cell_type": "code",
      "metadata": {
        "id": "0sNyHYVU_18k",
        "colab_type": "code",
        "colab": {
          "base_uri": "https://localhost:8080/",
          "height": 119
        },
        "outputId": "7561dcc0-193e-4a14-f23f-5686199ff071"
      },
      "source": [
        "df['Close']=df['Close'].shift(1)\n",
        "df=df.dropna()"
      ],
      "execution_count": 16,
      "outputs": [
        {
          "output_type": "stream",
          "text": [
            "/usr/local/lib/python3.6/dist-packages/ipykernel_launcher.py:1: SettingWithCopyWarning: \n",
            "A value is trying to be set on a copy of a slice from a DataFrame.\n",
            "Try using .loc[row_indexer,col_indexer] = value instead\n",
            "\n",
            "See the caveats in the documentation: https://pandas.pydata.org/pandas-docs/stable/user_guide/indexing.html#returning-a-view-versus-a-copy\n",
            "  \"\"\"Entry point for launching an IPython kernel.\n"
          ],
          "name": "stderr"
        }
      ]
    },
    {
      "cell_type": "code",
      "metadata": {
        "id": "25JOWXoX_3dH",
        "colab_type": "code",
        "colab": {}
      },
      "source": [
        "from sklearn.preprocessing import StandardScaler\n",
        "sc_X = StandardScaler()\n",
        "sc_y = StandardScaler()\n",
        "X = sc_X.fit_transform(df.drop(columns=['Close']).values)\n",
        "y = sc_y.fit_transform(df.Close.values.reshape(-1, 1))\n",
        "X_trains=[]\n",
        "y_trains=[]\n",
        "X_tests=[]\n",
        "y_tests=[]\n",
        "kf = KFold(n_splits=8)\n",
        "kf.get_n_splits(X)\n",
        "for train_index, test_index in kf.split(X):\n",
        "    X_trains.append(X[train_index])\n",
        "    X_tests.append(X[test_index])\n",
        "    y_trains.append(y[train_index])\n",
        "    y_tests.append(y[test_index])"
      ],
      "execution_count": 0,
      "outputs": []
    },
    {
      "cell_type": "code",
      "metadata": {
        "id": "3_AqHuDo_-ah",
        "colab_type": "code",
        "colab": {
          "base_uri": "https://localhost:8080/",
          "height": 289
        },
        "outputId": "86be32b3-14a9-4b93-b189-291abc2cd4c6"
      },
      "source": [
        "from xgboost import XGBRegressor\n",
        "XGB=XGBRegressor()\n",
        "XGB_error=[]\n",
        "for i in range(8):\n",
        "  print('Processing Batch : ',i+1)\n",
        "  XGB.fit(X_trains[i],y_trains[i])\n",
        "  XGB_error.append(mean_absolute_error(y_tests[i],XGB.predict(X_tests[i])))"
      ],
      "execution_count": 23,
      "outputs": [
        {
          "output_type": "stream",
          "text": [
            "Processing Batch :  1\n",
            "[21:39:48] WARNING: /workspace/src/objective/regression_obj.cu:152: reg:linear is now deprecated in favor of reg:squarederror.\n",
            "Processing Batch :  2\n",
            "[21:39:49] WARNING: /workspace/src/objective/regression_obj.cu:152: reg:linear is now deprecated in favor of reg:squarederror.\n",
            "Processing Batch :  3\n",
            "[21:39:49] WARNING: /workspace/src/objective/regression_obj.cu:152: reg:linear is now deprecated in favor of reg:squarederror.\n",
            "Processing Batch :  4\n",
            "[21:39:50] WARNING: /workspace/src/objective/regression_obj.cu:152: reg:linear is now deprecated in favor of reg:squarederror.\n",
            "Processing Batch :  5\n",
            "[21:39:50] WARNING: /workspace/src/objective/regression_obj.cu:152: reg:linear is now deprecated in favor of reg:squarederror.\n",
            "Processing Batch :  6\n",
            "[21:39:51] WARNING: /workspace/src/objective/regression_obj.cu:152: reg:linear is now deprecated in favor of reg:squarederror.\n",
            "Processing Batch :  7\n",
            "[21:39:51] WARNING: /workspace/src/objective/regression_obj.cu:152: reg:linear is now deprecated in favor of reg:squarederror.\n",
            "Processing Batch :  8\n",
            "[21:39:52] WARNING: /workspace/src/objective/regression_obj.cu:152: reg:linear is now deprecated in favor of reg:squarederror.\n"
          ],
          "name": "stdout"
        }
      ]
    },
    {
      "cell_type": "code",
      "metadata": {
        "id": "rGccWGccBbbH",
        "colab_type": "code",
        "colab": {
          "base_uri": "https://localhost:8080/",
          "height": 153
        },
        "outputId": "d202b3a4-32b8-4408-9a6a-35edd38b9010"
      },
      "source": [
        "XGB_error"
      ],
      "execution_count": 24,
      "outputs": [
        {
          "output_type": "execute_result",
          "data": {
            "text/plain": [
              "[0.0065768957575845065,\n",
              " 0.005579934439837836,\n",
              " 0.005833777165401967,\n",
              " 0.02973253317696267,\n",
              " 0.005669984075538987,\n",
              " 0.06014952733404631,\n",
              " 0.03370888053291198,\n",
              " 0.29654171040150523]"
            ]
          },
          "metadata": {
            "tags": []
          },
          "execution_count": 24
        }
      ]
    },
    {
      "cell_type": "code",
      "metadata": {
        "id": "uyf2MpgBBfGl",
        "colab_type": "code",
        "colab": {}
      },
      "source": [
        ""
      ],
      "execution_count": 0,
      "outputs": []
    }
  ]
}